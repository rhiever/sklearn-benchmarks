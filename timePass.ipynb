{
 "cells": [
  {
   "cell_type": "code",
   "execution_count": null,
   "metadata": {
    "collapsed": true
   },
   "outputs": [],
   "source": [
    "#print(CoefDatasetWise)\n",
    "#CoefDatasetWise[0]\n",
    "list1 = [0 , 1, 2, 3, 4, 5, 6, 7, 8, 9, 10, 11, 12, 13]\n",
    "newList = [[l[i] for i in list1] for l in CoefDatasetWise]\n",
    "#print(newList[0])\n",
    "it=iter(newList[0])\n",
    "import csv\n",
    "\n",
    "with open('names.csv', 'w') as csvfile:\n",
    "    fieldnames = ['Intercept', 'C[T.0.1]', 'C[T.0.5]', 'C[T.1.0]', 'C[T.10.0]', 'C[T.100.0]', 'C[T.50.0]',\n",
    "                  'loss[T.squared_hinge]', 'penalty[T.l2]', 'dual[T.True]', 'tol[T.0.001]', 'tol[T.0.01]', \n",
    "                  'tol[T.0.1]', 'tol[T.1e-05]']\n",
    "    writer = csv.DictWriter(csvfile, fieldnames=fieldnames)\n",
    "\n",
    "    writer.writeheader()\n",
    "    \n",
    "    writer.writerow({'Intercept' : next(it), 'C[T.0.1]': next(it), 'C[T.0.5]': next(it), 'C[T.1.0]': next(it), 'C[T.10.0]': next(it), \n",
    "                     'C[T.100.0]': next(it), 'C[T.50.0]': next(it),\n",
    "                  'loss[T.squared_hinge]': next(it), 'penalty[T.l2]': next(it), 'dual[T.True]': next(it), 'tol[T.0.001]': next(it), \n",
    "                     'tol[T.0.01]': next(it), \n",
    "                  'tol[T.0.1]': next(it), 'tol[T.1e-05]': next(it)})\n",
    "    #writer.writerow({'first_name': 'Lovely', 'last_name': 'Spam'})\n",
    "    #writer.writerow({'first_name': 'Wonderful', 'last_name': 'Spam'})\n",
    "#import csv\n",
    "#out = open('out.csv', 'w')\n",
    "#for row in newList:\n",
    "    #print(\"printingRow\")\n",
    "    #print(row)\n",
    "#    for column in row:\n",
    "        #print(\"printingC\")\n",
    "        #print(column)\n",
    "#       out.write('%f' % column)\n",
    "#        out.write(' ')\n",
    "#    out.write('\\n')\n",
    "#out.close()"
   ]
  },
  {
   "cell_type": "code",
   "execution_count": null,
   "metadata": {
    "collapsed": true
   },
   "outputs": [],
   "source": [
    "import pandas as pd\n",
    "\n",
    "benchmark_data = pd.read_csv('names.csv')\n",
    "#benchmark_data.head()"
   ]
  },
  {
   "cell_type": "code",
   "execution_count": null,
   "metadata": {
    "collapsed": true
   },
   "outputs": [],
   "source": [
    "A = {}\n",
    "i = 0\n",
    "#list1 = [1]\n",
    "for Dataset_name in Dataset_list:\n",
    "    A[i] = CoefDatasetWise[Dataset_name]\n",
    "    print(A)\n",
    "#    new_list = [item[1] for item in A]\n",
    "    #print(newList)\n",
    "    i = i + 1\n",
    "#coef_map = {'Intercept' : 0, 'C[T.0.1]' : 0, 'C[T.0.5]' : 0, 'C[T.1.0]' : 0, 'C[T.10.0]' : 0, 'C[T.100.0]' : 0, \n",
    "#            'C[T.50.0]' : 0, 'loss[T.squared_hinge]' : 0, 'dual[T.True]' : 0, 'tol[T.0.001]' : 0, \n",
    "#            'tol[T.0.01]' : 0, 'tol[T.0.1]' : 0, 'tol[T.1e-05]' : 0, 'dtype: float64' : 0}\n",
    "#for coef in coef_map:\n",
    "#    coef_map[coef] = CoefDatasetWise[coef]\n",
    "# Now you can access each score\n",
    "#for coef in coef_map:\n",
    "#    print(coef, coef_map[coef])"
   ]
  },
  {
   "cell_type": "code",
   "execution_count": null,
   "metadata": {
    "collapsed": true
   },
   "outputs": [],
   "source": [
    "len(Dataset_list)"
   ]
  },
  {
   "cell_type": "markdown",
   "metadata": {},
   "source": [
    "What we can do is to run a regression model of Test Score vs the Data sets to see which datasets are weighed more with respect to others and perform individual analysis on those datasets since there are 172 data sets here!"
   ]
  },
  {
   "cell_type": "code",
   "execution_count": null,
   "metadata": {
    "collapsed": true
   },
   "outputs": [],
   "source": [
    "for Dataset_name in Dataset_list:\n",
    "    Cleaned_Data = pd.read_pickle('../Cleaned_Method_Wise_Data_18thApril2016/LogisticRegression_cleaned.tsv.gz')\n",
    "    Cleaned_Data.head()"
   ]
  },
  {
   "cell_type": "code",
   "execution_count": null,
   "metadata": {
    "collapsed": true
   },
   "outputs": [],
   "source": [
    "# Save the file\n",
    "\n",
    "import os\n",
    "os.mkdir('../Cleaned_Method_Wise_Data_6thMay2016/LinearSVC_cleaned')\n",
    "\n",
    "DatasetWiseData['wine'].to_pickle('../Cleaned_Method_Wise_Data_6thMay2016/LinearSVC_cleaned/wine.tsv.gz')"
   ]
  }
 ],
 "metadata": {
  "kernelspec": {
   "display_name": "Python 3",
   "language": "python",
   "name": "python3"
  },
  "language_info": {
   "codemirror_mode": {
    "name": "ipython",
    "version": 3
   },
   "file_extension": ".py",
   "mimetype": "text/x-python",
   "name": "python",
   "nbconvert_exporter": "python",
   "pygments_lexer": "ipython3",
   "version": "3.5.1"
  }
 },
 "nbformat": 4,
 "nbformat_minor": 0
}
