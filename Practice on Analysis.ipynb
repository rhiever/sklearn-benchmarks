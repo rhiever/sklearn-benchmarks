{
 "cells": [
  {
   "cell_type": "code",
   "execution_count": 2,
   "metadata": {
    "collapsed": false
   },
   "outputs": [
    {
     "data": {
      "text/html": [
       "<div>\n",
       "<table border=\"1\" class=\"dataframe\">\n",
       "  <thead>\n",
       "    <tr style=\"text-align: right;\">\n",
       "      <th></th>\n",
       "      <th>dataset</th>\n",
       "      <th>model</th>\n",
       "      <th>parameters</th>\n",
       "      <th>testing_score</th>\n",
       "    </tr>\n",
       "  </thead>\n",
       "  <tbody>\n",
       "    <tr>\n",
       "      <th>0</th>\n",
       "      <td>car-evaluation</td>\n",
       "      <td>MultinomialNB</td>\n",
       "      <td>alpha=1,fit_prior=False,</td>\n",
       "      <td>0.814385</td>\n",
       "    </tr>\n",
       "    <tr>\n",
       "      <th>1</th>\n",
       "      <td>car-evaluation</td>\n",
       "      <td>MultinomialNB</td>\n",
       "      <td>alpha=1,fit_prior=False,</td>\n",
       "      <td>0.781903</td>\n",
       "    </tr>\n",
       "    <tr>\n",
       "      <th>2</th>\n",
       "      <td>car-evaluation</td>\n",
       "      <td>MultinomialNB</td>\n",
       "      <td>alpha=1,fit_prior=False,</td>\n",
       "      <td>0.781903</td>\n",
       "    </tr>\n",
       "    <tr>\n",
       "      <th>3</th>\n",
       "      <td>car-evaluation</td>\n",
       "      <td>MultinomialNB</td>\n",
       "      <td>alpha=1,fit_prior=False,</td>\n",
       "      <td>0.846868</td>\n",
       "    </tr>\n",
       "    <tr>\n",
       "      <th>4</th>\n",
       "      <td>car-evaluation</td>\n",
       "      <td>MultinomialNB</td>\n",
       "      <td>alpha=1,fit_prior=False,</td>\n",
       "      <td>0.807425</td>\n",
       "    </tr>\n",
       "  </tbody>\n",
       "</table>\n",
       "</div>"
      ],
      "text/plain": [
       "          dataset          model                parameters  testing_score\n",
       "0  car-evaluation  MultinomialNB  alpha=1,fit_prior=False,       0.814385\n",
       "1  car-evaluation  MultinomialNB  alpha=1,fit_prior=False,       0.781903\n",
       "2  car-evaluation  MultinomialNB  alpha=1,fit_prior=False,       0.781903\n",
       "3  car-evaluation  MultinomialNB  alpha=1,fit_prior=False,       0.846868\n",
       "4  car-evaluation  MultinomialNB  alpha=1,fit_prior=False,       0.807425"
      ]
     },
     "execution_count": 2,
     "metadata": {},
     "output_type": "execute_result"
    }
   ],
   "source": [
    "import pandas as pd\n",
    "\n",
    "benchmark_data = pd.read_csv('benchmark_results/DecisionTreeClassifier-benchmarks.tsv.gz', sep='\\t')\n",
    "benchmark_data.head()"
   ]
  },
  {
   "cell_type": "code",
   "execution_count": 2,
   "metadata": {
    "collapsed": false
   },
   "outputs": [
    {
     "data": {
      "text/html": [
       "<div>\n",
       "<table border=\"1\" class=\"dataframe\">\n",
       "  <thead>\n",
       "    <tr style=\"text-align: right;\">\n",
       "      <th></th>\n",
       "      <th>testing_score</th>\n",
       "    </tr>\n",
       "  </thead>\n",
       "  <tbody>\n",
       "    <tr>\n",
       "      <th>count</th>\n",
       "      <td>360.000000</td>\n",
       "    </tr>\n",
       "    <tr>\n",
       "      <th>mean</th>\n",
       "      <td>0.728313</td>\n",
       "    </tr>\n",
       "    <tr>\n",
       "      <th>std</th>\n",
       "      <td>0.227737</td>\n",
       "    </tr>\n",
       "    <tr>\n",
       "      <th>min</th>\n",
       "      <td>0.222738</td>\n",
       "    </tr>\n",
       "    <tr>\n",
       "      <th>25%</th>\n",
       "      <td>0.795244</td>\n",
       "    </tr>\n",
       "    <tr>\n",
       "      <th>50%</th>\n",
       "      <td>0.819026</td>\n",
       "    </tr>\n",
       "    <tr>\n",
       "      <th>75%</th>\n",
       "      <td>0.844548</td>\n",
       "    </tr>\n",
       "    <tr>\n",
       "      <th>max</th>\n",
       "      <td>0.883991</td>\n",
       "    </tr>\n",
       "  </tbody>\n",
       "</table>\n",
       "</div>"
      ],
      "text/plain": [
       "       testing_score\n",
       "count     360.000000\n",
       "mean        0.728313\n",
       "std         0.227737\n",
       "min         0.222738\n",
       "25%         0.795244\n",
       "50%         0.819026\n",
       "75%         0.844548\n",
       "max         0.883991"
      ]
     },
     "execution_count": 2,
     "metadata": {},
     "output_type": "execute_result"
    }
   ],
   "source": [
    "benchmark_data.describe()"
   ]
  },
  {
   "cell_type": "code",
   "execution_count": 3,
   "metadata": {
    "collapsed": false
   },
   "outputs": [
    {
     "data": {
      "text/plain": [
       "''"
      ]
     },
     "execution_count": 3,
     "metadata": {},
     "output_type": "execute_result"
    },
    {
     "data": {
      "image/png": "[encoded data removed]",
      "text/plain": [
       "<matplotlib.figure.Figure at 0x4a8cf9fcf8>"
      ]
     },
     "metadata": {},
     "output_type": "display_data"
    }
   ],
   "source": [
    "%matplotlib inline\n",
    "import matplotlib.pyplot as plt\n",
    "\n",
    "benchmark_data.boxplot('testing_score', by='parameters')\n",
    ";"
   ]
  },
  {
   "cell_type": "markdown",
   "metadata": {},
   "source": [
    "# MultinomialNB results\n",
    "\n",
    "Good alpha range is [0.1, 1.0]; looks like alpha doesn't affect performance much within that range\n",
    "\n",
    "fit_prior = True always performs better"
   ]
  },
  {
   "cell_type": "code",
   "execution_count": 4,
   "metadata": {
    "collapsed": false,
    "scrolled": false
   },
   "outputs": [
    {
     "data": {
      "image/png": "[encoded data removed]",
      "text/plain": [
       "<matplotlib.figure.Figure at 0x4a8e17ab00>"
      ]
     },
     "metadata": {},
     "output_type": "display_data"
    }
   ],
   "source": [
    "%matplotlib inline\n",
    "import matplotlib.pyplot as plt\n",
    "\n",
    "plt.figure(figsize=(12, 12))\n",
    "\n",
    "for (index, (parameter, parameter_group)) in enumerate(benchmark_data.groupby('parameters')):\n",
    "    plt.subplot(3, 4, index + 1)\n",
    "    plt.title(parameter)\n",
    "    plt.boxplot(parameter_group['testing_score'].values, notch=True)\n",
    "    plt.ylim(0.2, 0.9)"
   ]
  },
  {
   "cell_type": "code",
   "execution_count": 7,
   "metadata": {
    "collapsed": false
   },
   "outputs": [
    {
     "data": {
      "text/html": [
       "<div>\n",
       "<table border=\"1\" class=\"dataframe\">\n",
       "  <thead>\n",
       "    <tr style=\"text-align: right;\">\n",
       "      <th></th>\n",
       "      <th>dataset</th>\n",
       "      <th>model</th>\n",
       "      <th>parameters</th>\n",
       "      <th>testing_score</th>\n",
       "    </tr>\n",
       "  </thead>\n",
       "  <tbody>\n",
       "    <tr>\n",
       "      <th>0</th>\n",
       "      <td>car-evaluation</td>\n",
       "      <td>MultinomialNB</td>\n",
       "      <td>alpha=1,fit_prior=False,</td>\n",
       "      <td>0.814385</td>\n",
       "    </tr>\n",
       "    <tr>\n",
       "      <th>1</th>\n",
       "      <td>car-evaluation</td>\n",
       "      <td>MultinomialNB</td>\n",
       "      <td>alpha=1,fit_prior=False,</td>\n",
       "      <td>0.781903</td>\n",
       "    </tr>\n",
       "    <tr>\n",
       "      <th>2</th>\n",
       "      <td>car-evaluation</td>\n",
       "      <td>MultinomialNB</td>\n",
       "      <td>alpha=1,fit_prior=False,</td>\n",
       "      <td>0.781903</td>\n",
       "    </tr>\n",
       "    <tr>\n",
       "      <th>3</th>\n",
       "      <td>car-evaluation</td>\n",
       "      <td>MultinomialNB</td>\n",
       "      <td>alpha=1,fit_prior=False,</td>\n",
       "      <td>0.846868</td>\n",
       "    </tr>\n",
       "    <tr>\n",
       "      <th>4</th>\n",
       "      <td>car-evaluation</td>\n",
       "      <td>MultinomialNB</td>\n",
       "      <td>alpha=1,fit_prior=False,</td>\n",
       "      <td>0.807425</td>\n",
       "    </tr>\n",
       "  </tbody>\n",
       "</table>\n",
       "</div>"
      ],
      "text/plain": [
       "          dataset          model                parameters  testing_score\n",
       "0  car-evaluation  MultinomialNB  alpha=1,fit_prior=False,       0.814385\n",
       "1  car-evaluation  MultinomialNB  alpha=1,fit_prior=False,       0.781903\n",
       "2  car-evaluation  MultinomialNB  alpha=1,fit_prior=False,       0.781903\n",
       "3  car-evaluation  MultinomialNB  alpha=1,fit_prior=False,       0.846868\n",
       "4  car-evaluation  MultinomialNB  alpha=1,fit_prior=False,       0.807425"
      ]
     },
     "execution_count": 7,
     "metadata": {},
     "output_type": "execute_result"
    }
   ],
   "source": [
    "benchmark_data.head()"
   ]
  },
  {
   "cell_type": "code",
   "execution_count": 9,
   "metadata": {
    "collapsed": false
   },
   "outputs": [
    {
     "data": {
      "text/plain": [
       "<matplotlib.axes._subplots.AxesSubplot at 0x4a8db1eac8>"
      ]
     },
     "execution_count": 9,
     "metadata": {},
     "output_type": "execute_result"
    },
    {
     "data": {
      "image/png": "[encoded data removed]",
      "text/plain": [
       "<matplotlib.figure.Figure at 0x4a8e549860>"
      ]
     },
     "metadata": {},
     "output_type": "display_data"
    }
   ],
   "source": [
    "%matplotlib inline\n",
    "import seaborn as sb\n",
    "\n",
    "sb.boxplot(data=benchmark_data, x='parameters', y='testing_score')"
   ]
  },
  {
   "cell_type": "code",
   "execution_count": 3,
   "metadata": {
    "collapsed": false
   },
   "outputs": [],
   "source": [
    "ghvhg=benchmark_data['parameters'].apply(lambda x: x.split(','))\n"
   ]
  },
  {
   "cell_type": "code",
   "execution_count": 4,
   "metadata": {
    "collapsed": false
   },
   "outputs": [
    {
     "name": "stdout",
     "output_type": "stream",
     "text": [
      "0        [alpha=1, fit_prior=False, ]\n",
      "1        [alpha=1, fit_prior=False, ]\n",
      "2        [alpha=1, fit_prior=False, ]\n",
      "3        [alpha=1, fit_prior=False, ]\n",
      "4        [alpha=1, fit_prior=False, ]\n",
      "5        [alpha=1, fit_prior=False, ]\n",
      "6        [alpha=1, fit_prior=False, ]\n",
      "7        [alpha=1, fit_prior=False, ]\n",
      "8        [alpha=1, fit_prior=False, ]\n",
      "9        [alpha=1, fit_prior=False, ]\n",
      "10       [alpha=1, fit_prior=False, ]\n",
      "11       [alpha=1, fit_prior=False, ]\n",
      "12       [alpha=1, fit_prior=False, ]\n",
      "13       [alpha=1, fit_prior=False, ]\n",
      "14       [alpha=1, fit_prior=False, ]\n",
      "15       [alpha=1, fit_prior=False, ]\n",
      "16       [alpha=1, fit_prior=False, ]\n",
      "17       [alpha=1, fit_prior=False, ]\n",
      "18       [alpha=1, fit_prior=False, ]\n",
      "19       [alpha=1, fit_prior=False, ]\n",
      "20       [alpha=1, fit_prior=False, ]\n",
      "21       [alpha=1, fit_prior=False, ]\n",
      "22       [alpha=1, fit_prior=False, ]\n",
      "23       [alpha=1, fit_prior=False, ]\n",
      "24       [alpha=1, fit_prior=False, ]\n",
      "25       [alpha=1, fit_prior=False, ]\n",
      "26       [alpha=1, fit_prior=False, ]\n",
      "27       [alpha=1, fit_prior=False, ]\n",
      "28       [alpha=1, fit_prior=False, ]\n",
      "29       [alpha=1, fit_prior=False, ]\n",
      "                    ...              \n",
      "330    [alpha=0.75, fit_prior=True, ]\n",
      "331    [alpha=0.75, fit_prior=True, ]\n",
      "332    [alpha=0.75, fit_prior=True, ]\n",
      "333    [alpha=0.75, fit_prior=True, ]\n",
      "334    [alpha=0.75, fit_prior=True, ]\n",
      "335    [alpha=0.75, fit_prior=True, ]\n",
      "336    [alpha=0.75, fit_prior=True, ]\n",
      "337    [alpha=0.75, fit_prior=True, ]\n",
      "338    [alpha=0.75, fit_prior=True, ]\n",
      "339    [alpha=0.75, fit_prior=True, ]\n",
      "340    [alpha=0.75, fit_prior=True, ]\n",
      "341    [alpha=0.75, fit_prior=True, ]\n",
      "342    [alpha=0.75, fit_prior=True, ]\n",
      "343    [alpha=0.75, fit_prior=True, ]\n",
      "344    [alpha=0.75, fit_prior=True, ]\n",
      "345    [alpha=0.75, fit_prior=True, ]\n",
      "346    [alpha=0.75, fit_prior=True, ]\n",
      "347    [alpha=0.75, fit_prior=True, ]\n",
      "348    [alpha=0.75, fit_prior=True, ]\n",
      "349    [alpha=0.75, fit_prior=True, ]\n",
      "350    [alpha=0.75, fit_prior=True, ]\n",
      "351    [alpha=0.75, fit_prior=True, ]\n",
      "352    [alpha=0.75, fit_prior=True, ]\n",
      "353    [alpha=0.75, fit_prior=True, ]\n",
      "354    [alpha=0.75, fit_prior=True, ]\n",
      "355    [alpha=0.75, fit_prior=True, ]\n",
      "356    [alpha=0.75, fit_prior=True, ]\n",
      "357    [alpha=0.75, fit_prior=True, ]\n",
      "358    [alpha=0.75, fit_prior=True, ]\n",
      "359    [alpha=0.75, fit_prior=True, ]\n",
      "Name: parameters, dtype: object\n"
     ]
    }
   ],
   "source": [
    "print (ghvhg)\n"
   ]
  },
  {
   "cell_type": "code",
   "execution_count": 5,
   "metadata": {
    "collapsed": false
   },
   "outputs": [
    {
     "data": {
      "text/plain": [
       "0    [alpha=1, fit_prior=False, ]\n",
       "1    [alpha=1, fit_prior=False, ]\n",
       "2    [alpha=1, fit_prior=False, ]\n",
       "3    [alpha=1, fit_prior=False, ]\n",
       "4    [alpha=1, fit_prior=False, ]\n",
       "Name: parameters, dtype: object"
      ]
     },
     "execution_count": 5,
     "metadata": {},
     "output_type": "execute_result"
    }
   ],
   "source": [
    "ghvhg.head()"
   ]
  },
  {
   "cell_type": "code",
   "execution_count": 3,
   "metadata": {
    "collapsed": false
   },
   "outputs": [
    {
     "ename": "ImportError",
     "evalue": "No module named 'mrjob'",
     "output_type": "error",
     "traceback": [
      "\u001b[1;31m---------------------------------------------------------------------------\u001b[0m",
      "\u001b[1;31mImportError\u001b[0m                               Traceback (most recent call last)",
      "\u001b[1;32m<ipython-input-3-33369ad0090f>\u001b[0m in \u001b[0;36m<module>\u001b[1;34m()\u001b[0m\n\u001b[1;32m----> 1\u001b[1;33m \u001b[1;32mfrom\u001b[0m \u001b[0mmrjob\u001b[0m\u001b[1;33m.\u001b[0m\u001b[0mjob\u001b[0m \u001b[1;32mimport\u001b[0m \u001b[0mMRJob\u001b[0m\u001b[1;33m\u001b[0m\u001b[0m\n\u001b[0m\u001b[0;32m      2\u001b[0m \u001b[1;33m\u001b[0m\u001b[0m\n\u001b[0;32m      3\u001b[0m \u001b[1;32mclass\u001b[0m \u001b[0mMoviesByUserCounter\u001b[0m\u001b[1;33m(\u001b[0m\u001b[0mMRJob\u001b[0m\u001b[1;33m)\u001b[0m\u001b[1;33m:\u001b[0m\u001b[1;33m\u001b[0m\u001b[0m\n\u001b[0;32m      4\u001b[0m     \u001b[1;32mdef\u001b[0m \u001b[0mmapper\u001b[0m\u001b[1;33m(\u001b[0m\u001b[0mself\u001b[0m\u001b[1;33m,\u001b[0m \u001b[0mkey\u001b[0m\u001b[1;33m,\u001b[0m \u001b[0mline\u001b[0m\u001b[1;33m)\u001b[0m\u001b[1;33m:\u001b[0m\u001b[1;33m\u001b[0m\u001b[0m\n\u001b[0;32m      5\u001b[0m         \u001b[1;33m(\u001b[0m\u001b[0muserID\u001b[0m\u001b[1;33m,\u001b[0m \u001b[0mmovieID\u001b[0m\u001b[1;33m,\u001b[0m \u001b[0mrating\u001b[0m\u001b[1;33m,\u001b[0m \u001b[0mtimestamp\u001b[0m\u001b[1;33m)\u001b[0m\u001b[1;33m=\u001b[0m\u001b[0mline\u001b[0m\u001b[1;33m.\u001b[0m\u001b[0msplit\u001b[0m\u001b[1;33m(\u001b[0m\u001b[1;34m'\\t'\u001b[0m\u001b[1;33m)\u001b[0m\u001b[1;33m\u001b[0m\u001b[0m\n",
      "\u001b[1;31mImportError\u001b[0m: No module named 'mrjob'"
     ]
    }
   ],
   "source": [
    "# MapReduce Example\n",
    "\n",
    "from mrjob.job import MRJob\n",
    "\n",
    "class MoviesByUserCounter(MRJob):\n",
    "    def mapper(self, key, line):\n",
    "        (userID, movieID, rating, timestamp)=line.split('\\t')\n",
    "        yield userID, movieID\n",
    "        \n",
    "    def reducer(self, user, movies):\n",
    "        numMovies=0\n",
    "        for movies in movies:\n",
    "            numMovies=numMovies+1\n",
    "            \n",
    "        yield user, numMovies\n",
    "        \n",
    "if __name__=='__main__':\n",
    "    MoviesByUserCounter.run()"
   ]
  },
  {
   "cell_type": "code",
   "execution_count": null,
   "metadata": {
    "collapsed": true
   },
   "outputs": [],
   "source": []
  },
  {
   "cell_type": "code",
   "execution_count": null,
   "metadata": {
    "collapsed": true
   },
   "outputs": [],
   "source": []
  },
  {
   "cell_type": "code",
   "execution_count": null,
   "metadata": {
    "collapsed": true
   },
   "outputs": [],
   "source": []
  },
  {
   "cell_type": "code",
   "execution_count": null,
   "metadata": {
    "collapsed": true
   },
   "outputs": [],
   "source": []
  }
 ],
 "metadata": {
  "kernelspec": {
   "display_name": "Python 3",
   "language": "python",
   "name": "python3"
  },
  "language_info": {
   "codemirror_mode": {
    "name": "ipython",
    "version": 3
   },
   "file_extension": ".py",
   "mimetype": "text/x-python",
   "name": "python",
   "nbconvert_exporter": "python",
   "pygments_lexer": "ipython3",
   "version": "3.5.1"
  }
 },
 "nbformat": 4,
 "nbformat_minor": 0
}
