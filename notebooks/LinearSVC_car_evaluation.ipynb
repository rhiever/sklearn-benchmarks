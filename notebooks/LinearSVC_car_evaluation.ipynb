{
 "cells": [
  {
   "cell_type": "code",
   "execution_count": null,
   "metadata": {
    "collapsed": true
   },
   "outputs": [],
   "source": [
    "from glob import glob\n",
    "import pandas as pd\n",
    "from sklearn.svm import LinearSVC\n",
    "from sklearn.cross_validation import StratifiedShuffleSplit\n",
    "import itertools\n",
    "from collections import defaultdict\n",
    "\n",
    "all_model_scores = defaultdict(list)\n",
    "\n",
    "i=0\n",
    "# For every data set in the data repository...\n",
    "for dataset in glob('data/car-evaluation.csv.gz'):\n",
    "    # Read the data set into memory\n",
    "    input_data = pd.read_csv(dataset, compression='gzip')\n",
    "    #print(input_data)\n",
    "    \n",
    "    for dataset_repeat in range(1, 31):\n",
    "        print(i)\n",
    "        # Divide the data set into a training and testing sets, each time with a different RNG seed\n",
    "        training_indices, testing_indices = next(iter(StratifiedShuffleSplit(input_data['class'].values,\n",
    "                                                                             n_iter=1,\n",
    "                                                                             train_size=0.75,\n",
    "                                                                             test_size=0.25,\n",
    "                                                                             random_state=dataset_repeat)))\n",
    "        \n",
    "        training_features = input_data.loc[training_indices].drop('class', axis=1).values\n",
    "        training_classes = input_data.loc[training_indices, 'class'].values\n",
    "\n",
    "        testing_features = input_data.loc[testing_indices].drop('class', axis=1).values\n",
    "        testing_classes = input_data.loc[testing_indices, 'class'].values\n",
    "        \n",
    "        # These are parameters listed in the project document\n",
    "        C_list = [0.01, 0.1, 0.5, 1, 10, 50, 100]\n",
    "        loss_list = ['hinge', 'squared_hinge']\n",
    "        penalty_list = ['l2']\n",
    "        max_iter_list=[10,100,500,1000,2000]\n",
    "        # For every DecisionTreeClassifier parameter combination...\n",
    "        for (C, loss, penalty, max_iter) in itertools.product(C_list, loss_list, penalty_list, max_iter_list):\n",
    "            # Create and fit the model on the training data\n",
    "            clf = LinearSVC(C=C, loss=loss, penalty=penalty, max_iter=max_iter)\n",
    "            clf.fit(training_features, training_classes)\n",
    "            \n",
    "            # Store the model's score with the key (name of data set, model, model parameters)\n",
    "            all_model_scores[(dataset,\n",
    "                              'LinearSVC',\n",
    "                              (C, loss, penalty, max_iter))].append(clf.score(testing_features,\n",
    "                                                                                      testing_classes))\n",
    "            \n",
    "        i=i+1\n",
    "print(all_model_scores) "
   ]
  }
 ],
 "metadata": {
  "kernelspec": {
   "display_name": "Python 3",
   "language": "python",
   "name": "python3"
  },
  "language_info": {
   "codemirror_mode": {
    "name": "ipython",
    "version": 3
   },
   "file_extension": ".py",
   "mimetype": "text/x-python",
   "name": "python",
   "nbconvert_exporter": "python",
   "pygments_lexer": "ipython3",
   "version": "3.5.1"
  }
 },
 "nbformat": 4,
 "nbformat_minor": 0
}
