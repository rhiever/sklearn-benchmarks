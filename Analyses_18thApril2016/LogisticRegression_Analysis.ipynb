{
 "cells": [
  {
   "cell_type": "markdown",
   "metadata": {
    "collapsed": true
   },
   "source": [
    "Note: The analysis has been done on the Benchmark Data provided on 18th April 2016. "
   ]
  },
  {
   "cell_type": "code",
   "execution_count": 1,
   "metadata": {
    "collapsed": true
   },
   "outputs": [],
   "source": [
    "import pandas as pd\n",
    "\n",
    "import numpy as np\n",
    "\n",
    "import matplotlib.pyplot as plt\n",
    "\n",
    "import pylab \n",
    "\n",
    "# This allows plots to appear directly in the notebook\n",
    "%matplotlib inline"
   ]
  },
  {
   "cell_type": "code",
   "execution_count": 2,
   "metadata": {
    "collapsed": false
   },
   "outputs": [
    {
     "data": {
      "text/html": [
       "<div>\n",
       "<table border=\"1\" class=\"dataframe\">\n",
       "  <thead>\n",
       "    <tr style=\"text-align: right;\">\n",
       "      <th></th>\n",
       "      <th>Dataset_Name</th>\n",
       "      <th>Method_Name</th>\n",
       "      <th>Test_Score</th>\n",
       "      <th>C</th>\n",
       "      <th>penalty</th>\n",
       "    </tr>\n",
       "  </thead>\n",
       "  <tbody>\n",
       "    <tr>\n",
       "      <th>0</th>\n",
       "      <td>wine</td>\n",
       "      <td>LogisticRegression</td>\n",
       "      <td>0.333333</td>\n",
       "      <td>0.01</td>\n",
       "      <td>l1</td>\n",
       "    </tr>\n",
       "    <tr>\n",
       "      <th>1</th>\n",
       "      <td>wine</td>\n",
       "      <td>LogisticRegression</td>\n",
       "      <td>0.333333</td>\n",
       "      <td>0.01</td>\n",
       "      <td>l1</td>\n",
       "    </tr>\n",
       "    <tr>\n",
       "      <th>2</th>\n",
       "      <td>wine</td>\n",
       "      <td>LogisticRegression</td>\n",
       "      <td>0.333333</td>\n",
       "      <td>0.01</td>\n",
       "      <td>l1</td>\n",
       "    </tr>\n",
       "    <tr>\n",
       "      <th>3</th>\n",
       "      <td>wine</td>\n",
       "      <td>LogisticRegression</td>\n",
       "      <td>0.333333</td>\n",
       "      <td>0.01</td>\n",
       "      <td>l1</td>\n",
       "    </tr>\n",
       "    <tr>\n",
       "      <th>4</th>\n",
       "      <td>wine</td>\n",
       "      <td>LogisticRegression</td>\n",
       "      <td>0.333333</td>\n",
       "      <td>0.01</td>\n",
       "      <td>l1</td>\n",
       "    </tr>\n",
       "  </tbody>\n",
       "</table>\n",
       "</div>"
      ],
      "text/plain": [
       "  Dataset_Name         Method_Name  Test_Score     C penalty\n",
       "0         wine  LogisticRegression    0.333333  0.01      l1\n",
       "1         wine  LogisticRegression    0.333333  0.01      l1\n",
       "2         wine  LogisticRegression    0.333333  0.01      l1\n",
       "3         wine  LogisticRegression    0.333333  0.01      l1\n",
       "4         wine  LogisticRegression    0.333333  0.01      l1"
      ]
     },
     "execution_count": 2,
     "metadata": {},
     "output_type": "execute_result"
    }
   ],
   "source": [
    "Cleaned_Data = pd.read_pickle('../Cleaned_Method_Wise_Data_18thApril2016/LogisticRegression_cleaned.tsv.gz')\n",
    "Cleaned_Data.head()"
   ]
  },
  {
   "cell_type": "code",
   "execution_count": 3,
   "metadata": {
    "collapsed": false
   },
   "outputs": [
    {
     "data": {
      "text/plain": [
       "(72240, 5)"
      ]
     },
     "execution_count": 3,
     "metadata": {},
     "output_type": "execute_result"
    }
   ],
   "source": [
    "Cleaned_Data.shape"
   ]
  },
  {
   "cell_type": "code",
   "execution_count": 4,
   "metadata": {
    "collapsed": false
   },
   "outputs": [
    {
     "data": {
      "text/html": [
       "<div>\n",
       "<table border=\"1\" class=\"dataframe\">\n",
       "  <thead>\n",
       "    <tr style=\"text-align: right;\">\n",
       "      <th></th>\n",
       "      <th>Dataset_Name</th>\n",
       "      <th>Method_Name</th>\n",
       "      <th>Test_Score</th>\n",
       "      <th>C</th>\n",
       "      <th>penalty</th>\n",
       "      <th>penalty_categorical</th>\n",
       "    </tr>\n",
       "  </thead>\n",
       "  <tbody>\n",
       "    <tr>\n",
       "      <th>0</th>\n",
       "      <td>wine</td>\n",
       "      <td>LogisticRegression</td>\n",
       "      <td>0.333333</td>\n",
       "      <td>0.01</td>\n",
       "      <td>l1</td>\n",
       "      <td>0</td>\n",
       "    </tr>\n",
       "    <tr>\n",
       "      <th>1</th>\n",
       "      <td>wine</td>\n",
       "      <td>LogisticRegression</td>\n",
       "      <td>0.333333</td>\n",
       "      <td>0.01</td>\n",
       "      <td>l1</td>\n",
       "      <td>0</td>\n",
       "    </tr>\n",
       "    <tr>\n",
       "      <th>2</th>\n",
       "      <td>wine</td>\n",
       "      <td>LogisticRegression</td>\n",
       "      <td>0.333333</td>\n",
       "      <td>0.01</td>\n",
       "      <td>l1</td>\n",
       "      <td>0</td>\n",
       "    </tr>\n",
       "    <tr>\n",
       "      <th>3</th>\n",
       "      <td>wine</td>\n",
       "      <td>LogisticRegression</td>\n",
       "      <td>0.333333</td>\n",
       "      <td>0.01</td>\n",
       "      <td>l1</td>\n",
       "      <td>0</td>\n",
       "    </tr>\n",
       "    <tr>\n",
       "      <th>4</th>\n",
       "      <td>wine</td>\n",
       "      <td>LogisticRegression</td>\n",
       "      <td>0.333333</td>\n",
       "      <td>0.01</td>\n",
       "      <td>l1</td>\n",
       "      <td>0</td>\n",
       "    </tr>\n",
       "  </tbody>\n",
       "</table>\n",
       "</div>"
      ],
      "text/plain": [
       "  Dataset_Name         Method_Name  Test_Score     C penalty  \\\n",
       "0         wine  LogisticRegression    0.333333  0.01      l1   \n",
       "1         wine  LogisticRegression    0.333333  0.01      l1   \n",
       "2         wine  LogisticRegression    0.333333  0.01      l1   \n",
       "3         wine  LogisticRegression    0.333333  0.01      l1   \n",
       "4         wine  LogisticRegression    0.333333  0.01      l1   \n",
       "\n",
       "   penalty_categorical  \n",
       "0                    0  \n",
       "1                    0  \n",
       "2                    0  \n",
       "3                    0  \n",
       "4                    0  "
      ]
     },
     "execution_count": 4,
     "metadata": {},
     "output_type": "execute_result"
    }
   ],
   "source": [
    "Cleaned_Data['penalty_categorical'] = Cleaned_Data.penalty.map({'l1':0, 'l2':1})\n",
    "Cleaned_Data.head()"
   ]
  },
  {
   "cell_type": "markdown",
   "metadata": {},
   "source": [
    "# Plot parameters against test scores"
   ]
  },
  {
   "cell_type": "code",
   "execution_count": 13,
   "metadata": {
    "collapsed": false
   },
   "outputs": [
    {
     "data": {
      "text/plain": [
       "['0.01', '0.1', '0.5', '1.0', '10.0', '50.0', '100.0']"
      ]
     },
     "execution_count": 13,
     "metadata": {},
     "output_type": "execute_result"
    }
   ],
   "source": [
    "Param1=Cleaned_Data['C'].unique().tolist()\n",
    "Param1"
   ]
  },
  {
   "cell_type": "code",
   "execution_count": 28,
   "metadata": {
    "collapsed": false
   },
   "outputs": [
    {
     "data": {
      "text/plain": [
       "<matplotlib.axes._subplots.AxesSubplot at 0x8aefaa6f98>"
      ]
     },
     "execution_count": 28,
     "metadata": {},
     "output_type": "execute_result"
    },
    {
     "data": {
      "image/png": "[encoded data removed]",
      "text/plain": [
       "<matplotlib.figure.Figure at 0x8aefaa12e8>"
      ]
     },
     "metadata": {},
     "output_type": "display_data"
    }
   ],
   "source": [
    "import seaborn as sns\n",
    "sns.set()\n",
    "fig, axs = plt.subplots(2,1, sharey=True, figsize=(15,15)) # 3 rows 1 column, figsize controls how big I want the fig to look\n",
    "fig.subplots_adjust(hspace=1) # Give space between the subplots\n",
    "\n",
    "#boxplots\n",
    "sns.boxplot(data=Cleaned_Data, x='C', y='Test_Score', notch='T',ax=axs[0])   #order of the n neighbors has to be sorted out\n",
    "sns.boxplot(data=Cleaned_Data, x='penalty', y='Test_Score', notch='T',ax=axs[1])"
   ]
  },
  {
   "cell_type": "markdown",
   "metadata": {},
   "source": [
    "Analysis:\n",
    "\n",
    "Its very hard to draw any conclusions out of this since the plots are very similar in nature. L2 penalty does slightly better than L1 while probably a value of C=0.001 is the least effective out of the lot."
   ]
  },
  {
   "cell_type": "markdown",
   "metadata": {},
   "source": [
    "# Linear Regression on combined dataset"
   ]
  },
  {
   "cell_type": "code",
   "execution_count": 6,
   "metadata": {
    "collapsed": false
   },
   "outputs": [
    {
     "data": {
      "text/html": [
       "<table class=\"simpletable\">\n",
       "<caption>OLS Regression Results</caption>\n",
       "<tr>\n",
       "  <th>Dep. Variable:</th>       <td>Test_Score</td>    <th>  R-squared:         </th>  <td>   0.036</td> \n",
       "</tr>\n",
       "<tr>\n",
       "  <th>Model:</th>                   <td>OLS</td>       <th>  Adj. R-squared:    </th>  <td>   0.036</td> \n",
       "</tr>\n",
       "<tr>\n",
       "  <th>Method:</th>             <td>Least Squares</td>  <th>  F-statistic:       </th>  <td>   383.6</td> \n",
       "</tr>\n",
       "<tr>\n",
       "  <th>Date:</th>             <td>Tue, 19 Apr 2016</td> <th>  Prob (F-statistic):</th>   <td>  0.00</td>  \n",
       "</tr>\n",
       "<tr>\n",
       "  <th>Time:</th>                 <td>01:01:30</td>     <th>  Log-Likelihood:    </th>  <td>  15297.</td> \n",
       "</tr>\n",
       "<tr>\n",
       "  <th>No. Observations:</th>      <td> 72240</td>      <th>  AIC:               </th> <td>-3.058e+04</td>\n",
       "</tr>\n",
       "<tr>\n",
       "  <th>Df Residuals:</th>          <td> 72232</td>      <th>  BIC:               </th> <td>-3.050e+04</td>\n",
       "</tr>\n",
       "<tr>\n",
       "  <th>Df Model:</th>              <td>     7</td>      <th>                     </th>      <td> </td>    \n",
       "</tr>\n",
       "<tr>\n",
       "  <th>Covariance Type:</th>      <td>nonrobust</td>    <th>                     </th>      <td> </td>    \n",
       "</tr>\n",
       "</table>\n",
       "<table class=\"simpletable\">\n",
       "<tr>\n",
       "        <td></td>           <th>coef</th>     <th>std err</th>      <th>t</th>      <th>P>|t|</th> <th>[95.0% Conf. Int.]</th> \n",
       "</tr>\n",
       "<tr>\n",
       "  <th>Intercept</th>     <td>    0.6457</td> <td>    0.002</td> <td>  313.387</td> <td> 0.000</td> <td>    0.642     0.650</td>\n",
       "</tr>\n",
       "<tr>\n",
       "  <th>C[T.0.1]</th>      <td>    0.0806</td> <td>    0.003</td> <td>   29.554</td> <td> 0.000</td> <td>    0.075     0.086</td>\n",
       "</tr>\n",
       "<tr>\n",
       "  <th>C[T.0.5]</th>      <td>    0.1011</td> <td>    0.003</td> <td>   37.099</td> <td> 0.000</td> <td>    0.096     0.106</td>\n",
       "</tr>\n",
       "<tr>\n",
       "  <th>C[T.1.0]</th>      <td>    0.1035</td> <td>    0.003</td> <td>   37.969</td> <td> 0.000</td> <td>    0.098     0.109</td>\n",
       "</tr>\n",
       "<tr>\n",
       "  <th>C[T.10.0]</th>     <td>    0.1040</td> <td>    0.003</td> <td>   38.144</td> <td> 0.000</td> <td>    0.099     0.109</td>\n",
       "</tr>\n",
       "<tr>\n",
       "  <th>C[T.100.0]</th>    <td>    0.1029</td> <td>    0.003</td> <td>   37.767</td> <td> 0.000</td> <td>    0.098     0.108</td>\n",
       "</tr>\n",
       "<tr>\n",
       "  <th>C[T.50.0]</th>     <td>    0.1033</td> <td>    0.003</td> <td>   37.880</td> <td> 0.000</td> <td>    0.098     0.109</td>\n",
       "</tr>\n",
       "<tr>\n",
       "  <th>penalty[T.l2]</th> <td>    0.0252</td> <td>    0.001</td> <td>   17.315</td> <td> 0.000</td> <td>    0.022     0.028</td>\n",
       "</tr>\n",
       "</table>\n",
       "<table class=\"simpletable\">\n",
       "<tr>\n",
       "  <th>Omnibus:</th>       <td>5499.946</td> <th>  Durbin-Watson:     </th> <td>   0.167</td>\n",
       "</tr>\n",
       "<tr>\n",
       "  <th>Prob(Omnibus):</th>  <td> 0.000</td>  <th>  Jarque-Bera (JB):  </th> <td>6874.408</td>\n",
       "</tr>\n",
       "<tr>\n",
       "  <th>Skew:</th>           <td>-0.756</td>  <th>  Prob(JB):          </th> <td>    0.00</td>\n",
       "</tr>\n",
       "<tr>\n",
       "  <th>Kurtosis:</th>       <td> 3.007</td>  <th>  Cond. No.          </th> <td>    8.88</td>\n",
       "</tr>\n",
       "</table>"
      ],
      "text/plain": [
       "<class 'statsmodels.iolib.summary.Summary'>\n",
       "\"\"\"\n",
       "                            OLS Regression Results                            \n",
       "==============================================================================\n",
       "Dep. Variable:             Test_Score   R-squared:                       0.036\n",
       "Model:                            OLS   Adj. R-squared:                  0.036\n",
       "Method:                 Least Squares   F-statistic:                     383.6\n",
       "Date:                Tue, 19 Apr 2016   Prob (F-statistic):               0.00\n",
       "Time:                        01:01:30   Log-Likelihood:                 15297.\n",
       "No. Observations:               72240   AIC:                        -3.058e+04\n",
       "Df Residuals:                   72232   BIC:                        -3.050e+04\n",
       "Df Model:                           7                                         \n",
       "Covariance Type:            nonrobust                                         \n",
       "=================================================================================\n",
       "                    coef    std err          t      P>|t|      [95.0% Conf. Int.]\n",
       "---------------------------------------------------------------------------------\n",
       "Intercept         0.6457      0.002    313.387      0.000         0.642     0.650\n",
       "C[T.0.1]          0.0806      0.003     29.554      0.000         0.075     0.086\n",
       "C[T.0.5]          0.1011      0.003     37.099      0.000         0.096     0.106\n",
       "C[T.1.0]          0.1035      0.003     37.969      0.000         0.098     0.109\n",
       "C[T.10.0]         0.1040      0.003     38.144      0.000         0.099     0.109\n",
       "C[T.100.0]        0.1029      0.003     37.767      0.000         0.098     0.108\n",
       "C[T.50.0]         0.1033      0.003     37.880      0.000         0.098     0.109\n",
       "penalty[T.l2]     0.0252      0.001     17.315      0.000         0.022     0.028\n",
       "==============================================================================\n",
       "Omnibus:                     5499.946   Durbin-Watson:                   0.167\n",
       "Prob(Omnibus):                  0.000   Jarque-Bera (JB):             6874.408\n",
       "Skew:                          -0.756   Prob(JB):                         0.00\n",
       "Kurtosis:                       3.007   Cond. No.                         8.88\n",
       "==============================================================================\n",
       "\n",
       "Warnings:\n",
       "[1] Standard Errors assume that the covariance matrix of the errors is correctly specified.\n",
       "\"\"\""
      ]
     },
     "execution_count": 6,
     "metadata": {},
     "output_type": "execute_result"
    }
   ],
   "source": [
    "import statsmodels.formula.api as smf\n",
    "\n",
    "lm = smf.ols(formula='Test_Score ~ C + penalty', data=Cleaned_Data).fit()\n",
    "lm.params\n",
    "lm.summary()\n"
   ]
  },
  {
   "cell_type": "markdown",
   "metadata": {},
   "source": [
    "Analysis:\n",
    "\n",
    "R square value is very low! Noticeably the C parameter is weighed more than the penalty parameter. C=10 has highest weights while C=0.1 has the lowest. Note: This is on the basis that C=0.001 has the coefficient value of 0."
   ]
  },
  {
   "cell_type": "markdown",
   "metadata": {},
   "source": [
    "# Dividing the dataframe into independent data sets\n"
   ]
  },
  {
   "cell_type": "code",
   "execution_count": 7,
   "metadata": {
    "collapsed": false
   },
   "outputs": [
    {
     "name": "stdout",
     "output_type": "stream",
     "text": [
      "['wine', 'analcatdata_happiness', 'mfeat-factors', 'labor', 'mux6', 'liver-disorder', 'buggyCrx', 'chess', 'analcatdata_famufsu', 'allrep', 'Hill_Valley_with_noise', 'ionosphere', 'solar-flare_1', 'analcatdata_lawsuit', 'vowel', 'shuttle-landing-control-full', 'analcatdata_japansolvent', 'splice', 'agaricus-lepiota', 'prnn_synth', 'Hill_Valley_without_noise', 'new-thyroid', 'hayes-roth', 'molecular-biology_promoters', 'german', 'churn', 'GAMETES_Epistasis_2-Way_20atts_0.4H_EDM-1_1', 'breast-cancer-wisconsin', 'breast', 'analcatdata_germangss', 'hepatitis', 'waveform-21', 'soybean', 'GAMETES_Epistasis_3-Way_20atts_0.2H_EDM-1_1', 'promoters', 'sat', 'tutorial', 'analcatdata_donner', 'spect', 'analcatdata_cyyoung9302', 'crx', 'car', 'connect-4', 'postoperative-patient-data', 'prnn_cushings', 'xd6', 'analcatdata_boxing2', 'mfeat-karhunen', 'threeOf9', 'schizo', 'glass', 'analcatdata_chall2', 'iris', 'analcatdata_boxing1', 'haberman', 'spectf', 'tic-tac-toe', 'parity5', 'lymphography', 'nursery', 'mfeat-morphological', 'diabetes', 'satimage', 'mfeat-pixel', 'wine-recognition', 'analcatdata_mapleleafs', 'mfeat-zernike', 'analcatdata_dmft', 'flags', 'optdigits', 'mfeat-fourier', 'rand20cont', 'credit-a', 'analcatdata_esr', 'clean1', 'analcatdata_aids', 'mofn-3-7-10', 'heart-h', 'dermatology', 'golf', 'analcatdata_authorship', 'analcatdata_votesurvey', 'credit-g', 'australian', 'lung-cancer', 'breast-cancer', 'krkopt', 'dis', 'monk2', 'pendigits', 'auto', 'sleep', 'lenses', 'hungarian', 'analcatdata_challenger', 'backache', 'analcatdata_cyyoung8092', 'cmc', 'car-evaluation', 'sponge', 'solar-flare_2', 'biomed', 'allhypo', 'pima', 'wine-quality-white', 'GAMETES_Epistasis_2-Way_20atts_0.1H_EDM-1_1', 'monk3', 'glass2', 'balance-scale', 'breast-w', 'sick-euthyroid', 'profb', 'spambase', 'cleveland-nominal', 'yeast', 'parity5+5', 'corral', 'prnn_fglass', 'waveform-40', 'GAMETES_Heterogeneity_20atts_1600_Het_0.4_0.2_75_EDM-2_001', 'vehicle', 'segmentation', 'vote', 'heart-c', 'allbp', 'analcatdata_currency', 'analcatdata_bankruptcy', 'led7', 'cars1', 'mushroom', 'flare', 'hypothyroid', 'prnn_crabs', 'analcatdata_asbestos', 'analcatdata_fraud', 'GAMETES_Heterogeneity_20atts_1600_Het_0.4_0.2_50_EDM-2_001', 'cleve', 'confidence', 'monk1', 'collins', 'shuttle', 'wine-quality-red', 'rand20', 'ann-thyroid', 'led24', 'shuttle-landing-control', 'heart-statlog', 'dna', 'GAMETES-easy-4x2-way_her-0.4_pop-1600_attribs-100_discrete', 'colic', 'irish', 'house-votes-84', 'cleveland', 'arrhythmia', 'zoo', 'sonar', 'kr-vs-kp', 'analcatdata_chall101', 'horse-colic', 'tokyo1', 'letter', 'ecoli', 'tae', 'GAMETES_Epistasis_2-Way_1000atts_0.4H_EDM-1_EDM-1_1', 'lupus', 'adult', 'analcatdata_creditscore', 'trains', 'cloud', 'cars', 'clean2', 'page-blocks']\n"
     ]
    }
   ],
   "source": [
    "Dataset_list=Cleaned_Data['Dataset_Name'].unique().tolist()\n",
    "print(Dataset_list)\n",
    "DatasetWiseData={}\n",
    "for Dataset_name in Dataset_list:\n",
    "    DatasetWiseData[Dataset_name] = Cleaned_Data[Cleaned_Data.Dataset_Name==Dataset_name]"
   ]
  },
  {
   "cell_type": "code",
   "execution_count": 8,
   "metadata": {
    "collapsed": false
   },
   "outputs": [
    {
     "data": {
      "text/plain": [
       "172"
      ]
     },
     "execution_count": 8,
     "metadata": {},
     "output_type": "execute_result"
    }
   ],
   "source": [
    "len(Dataset_list)"
   ]
  },
  {
   "cell_type": "markdown",
   "metadata": {},
   "source": [
    "What we can do is to run a regression model of Test Score vs the Data sets to see which datasets are weighed more with respect to others and perform individual analysis on those datasets since there are 172 data sets here!"
   ]
  },
  {
   "cell_type": "code",
   "execution_count": null,
   "metadata": {
    "collapsed": true
   },
   "outputs": [],
   "source": [
    "# Save the file\n",
    "\n",
    "import os\n",
    "os.mkdir('../Cleaned_Method_Wise_Data_18thApril2016/LogisticRegression_cleaned')\n",
    "DatasetWiseData['wine'].to_pickle('../Cleaned_Method_Wise_Data_18thApril2016/LogisticRegression_cleaned/wine.tsv.gz')"
   ]
  },
  {
   "cell_type": "code",
   "execution_count": null,
   "metadata": {
    "collapsed": true
   },
   "outputs": [],
   "source": [
    "# Read the file\n",
    "\n",
    "Dataset_DTC_Type = pd.read_pickle('../Cleaned_Method_Wise_Data_18thApril2016/LogisticRegression_cleaned/wine.tsv.gz')\n",
    "print(Dataset_DTC_Type)"
   ]
  },
  {
   "cell_type": "markdown",
   "metadata": {},
   "source": [
    "# Plotting and Linear Regression Analysis performed data wise"
   ]
  },
  {
   "cell_type": "code",
   "execution_count": null,
   "metadata": {
    "collapsed": true
   },
   "outputs": [],
   "source": [
    "# Loop through the entire files in the folder, open then and run the codes....\n",
    "\n",
    "import os\n",
    "indir = '../Cleaned_Method_Wise_Data_18thApril2016/LogisticRegression_cleaned/'\n",
    "for root, dirs, filenames in os.walk(indir):\n",
    "     for f in filenames:\n",
    "        print(f)\n",
    "        Dataset_Cleaned_Data = pd.read_pickle(indir+f)\n",
    "        plt.figure()   \n",
    "        sns.boxplot(data=Dataset_Cleaned_Data, x='C', y='Test_Score', notch='T')\n",
    "        sns.plt.title(f)\n",
    "        plt.figure() \n",
    "        sns.boxplot(data=Dataset_Cleaned_Data, x='penalty', y='Test_Score', notch='T')\n",
    "        lm = smf.ols(formula='Test_Score ~ C + penalty', data=Dataset_Cleaned_Data).fit()\n",
    "        print(lm.summary())"
   ]
  },
  {
   "cell_type": "markdown",
   "metadata": {},
   "source": [
    "Analysis:"
   ]
  }
 ],
 "metadata": {
  "kernelspec": {
   "display_name": "Python 3",
   "language": "python",
   "name": "python3"
  },
  "language_info": {
   "codemirror_mode": {
    "name": "ipython",
    "version": 3
   },
   "file_extension": ".py",
   "mimetype": "text/x-python",
   "name": "python",
   "nbconvert_exporter": "python",
   "pygments_lexer": "ipython3",
   "version": "3.5.1"
  }
 },
 "nbformat": 4,
 "nbformat_minor": 0
}
