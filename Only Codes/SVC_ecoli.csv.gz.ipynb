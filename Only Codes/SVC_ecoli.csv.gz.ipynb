{
 "cells": [
  {
   "cell_type": "code",
   "execution_count": 2,
   "metadata": {
    "collapsed": false
   },
   "outputs": [
    {
     "ename": "ValueError",
     "evalue": "X.shape[0] should be equal to X.shape[1]",
     "output_type": "error",
     "traceback": [
      "\u001b[1;31m---------------------------------------------------------------------------\u001b[0m",
      "\u001b[1;31mValueError\u001b[0m                                Traceback (most recent call last)",
      "\u001b[1;32m<ipython-input-2-9123bc042772>\u001b[0m in \u001b[0;36m<module>\u001b[1;34m()\u001b[0m\n\u001b[0;32m     38\u001b[0m             \u001b[1;31m# Create and fit the model on the training data\u001b[0m\u001b[1;33m\u001b[0m\u001b[1;33m\u001b[0m\u001b[0m\n\u001b[0;32m     39\u001b[0m             \u001b[0mclf\u001b[0m \u001b[1;33m=\u001b[0m \u001b[0mSVC\u001b[0m\u001b[1;33m(\u001b[0m\u001b[0mC\u001b[0m \u001b[1;33m=\u001b[0m \u001b[0mC\u001b[0m\u001b[1;33m,\u001b[0m \u001b[0mgamma\u001b[0m \u001b[1;33m=\u001b[0m \u001b[0mgamma\u001b[0m\u001b[1;33m,\u001b[0m \u001b[0mshrinking\u001b[0m \u001b[1;33m=\u001b[0m \u001b[0mshrinking\u001b[0m\u001b[1;33m,\u001b[0m \u001b[0mkernel\u001b[0m \u001b[1;33m=\u001b[0m \u001b[0mkernel\u001b[0m\u001b[1;33m)\u001b[0m\u001b[1;33m\u001b[0m\u001b[0m\n\u001b[1;32m---> 40\u001b[1;33m             \u001b[0mclf\u001b[0m\u001b[1;33m.\u001b[0m\u001b[0mfit\u001b[0m\u001b[1;33m(\u001b[0m\u001b[0mtraining_features\u001b[0m\u001b[1;33m,\u001b[0m \u001b[0mtraining_classes\u001b[0m\u001b[1;33m)\u001b[0m\u001b[1;33m\u001b[0m\u001b[0m\n\u001b[0m\u001b[0;32m     41\u001b[0m \u001b[1;33m\u001b[0m\u001b[0m\n\u001b[0;32m     42\u001b[0m             \u001b[1;31m# Store the model's score with the key (name of data set, model, model parameters)\u001b[0m\u001b[1;33m\u001b[0m\u001b[1;33m\u001b[0m\u001b[0m\n",
      "\u001b[1;32mC:\\Anaconda3\\lib\\site-packages\\sklearn\\svm\\base.py\u001b[0m in \u001b[0;36mfit\u001b[1;34m(self, X, y, sample_weight)\u001b[0m\n\u001b[0;32m    163\u001b[0m \u001b[1;33m\u001b[0m\u001b[0m\n\u001b[0;32m    164\u001b[0m         \u001b[1;32mif\u001b[0m \u001b[0mself\u001b[0m\u001b[1;33m.\u001b[0m\u001b[0mkernel\u001b[0m \u001b[1;33m==\u001b[0m \u001b[1;34m\"precomputed\"\u001b[0m \u001b[1;32mand\u001b[0m \u001b[0mX\u001b[0m\u001b[1;33m.\u001b[0m\u001b[0mshape\u001b[0m\u001b[1;33m[\u001b[0m\u001b[1;36m0\u001b[0m\u001b[1;33m]\u001b[0m \u001b[1;33m!=\u001b[0m \u001b[0mX\u001b[0m\u001b[1;33m.\u001b[0m\u001b[0mshape\u001b[0m\u001b[1;33m[\u001b[0m\u001b[1;36m1\u001b[0m\u001b[1;33m]\u001b[0m\u001b[1;33m:\u001b[0m\u001b[1;33m\u001b[0m\u001b[0m\n\u001b[1;32m--> 165\u001b[1;33m             \u001b[1;32mraise\u001b[0m \u001b[0mValueError\u001b[0m\u001b[1;33m(\u001b[0m\u001b[1;34m\"X.shape[0] should be equal to X.shape[1]\"\u001b[0m\u001b[1;33m)\u001b[0m\u001b[1;33m\u001b[0m\u001b[0m\n\u001b[0m\u001b[0;32m    166\u001b[0m \u001b[1;33m\u001b[0m\u001b[0m\n\u001b[0;32m    167\u001b[0m         \u001b[1;32mif\u001b[0m \u001b[0msample_weight\u001b[0m\u001b[1;33m.\u001b[0m\u001b[0mshape\u001b[0m\u001b[1;33m[\u001b[0m\u001b[1;36m0\u001b[0m\u001b[1;33m]\u001b[0m \u001b[1;33m>\u001b[0m \u001b[1;36m0\u001b[0m \u001b[1;32mand\u001b[0m \u001b[0msample_weight\u001b[0m\u001b[1;33m.\u001b[0m\u001b[0mshape\u001b[0m\u001b[1;33m[\u001b[0m\u001b[1;36m0\u001b[0m\u001b[1;33m]\u001b[0m \u001b[1;33m!=\u001b[0m \u001b[0mX\u001b[0m\u001b[1;33m.\u001b[0m\u001b[0mshape\u001b[0m\u001b[1;33m[\u001b[0m\u001b[1;36m0\u001b[0m\u001b[1;33m]\u001b[0m\u001b[1;33m:\u001b[0m\u001b[1;33m\u001b[0m\u001b[0m\n",
      "\u001b[1;31mValueError\u001b[0m: X.shape[0] should be equal to X.shape[1]"
     ]
    }
   ],
   "source": [
    "from glob import glob\n",
    "import pandas as pd\n",
    "from sklearn.svm import SVC\n",
    "from sklearn.cross_validation import StratifiedShuffleSplit\n",
    "import itertools\n",
    "from collections import defaultdict\n",
    "\n",
    "all_model_scores = defaultdict(list)\n",
    "#print(1)\n",
    "\n",
    "# For every data set in the data repository...\n",
    "for dataset in glob('data/ecoli.csv.gz'):\n",
    "    # Read the data set into memory\n",
    "    input_data = pd.read_csv(dataset, compression='gzip')\n",
    "    \n",
    "    for dataset_repeat in range(1, 31):\n",
    "        # Divide the data set into a training and testing sets, each time with a different RNG seed\n",
    "        training_indices, testing_indices = next(iter(StratifiedShuffleSplit(input_data['class'].values,\n",
    "                                                                             n_iter=1,\n",
    "                                                                             train_size=0.75,\n",
    "                                                                             test_size=0.25,\n",
    "                                                                             random_state=dataset_repeat)))\n",
    "        \n",
    "        training_features = input_data.loc[training_indices].drop('class', axis=1).values\n",
    "        training_classes = input_data.loc[training_indices, 'class'].values\n",
    "\n",
    "        testing_features = input_data.loc[testing_indices].drop('class', axis=1).values\n",
    "        testing_classes = input_data.loc[testing_indices, 'class'].values\n",
    "        \n",
    "        # These are parameters listed in the project document\n",
    "        C_list = [0.01, 0.1, 0.5, 1.0, 10.0, 50.0, 100.0]\n",
    "        gamma_list = [0.01, 0.1, 0.5, 1.0, 10.0, 50.0, 100.0]\n",
    "        shrinking_list = [True, False]\n",
    "        kernel_list = ['linear', 'poly', 'rbf', 'sigmoid', 'precomputed']\n",
    "        #degree_list = [[2,3,4] for x in kernel_list if x=='poly']\n",
    "        # For every DecisionTreeClassifier parameter combination...\n",
    "        for (C, gamma, shrinking, kernel) in itertools.product(C_list, gamma_list, shrinking_list, kernel_list):\n",
    "            # Create and fit the model on the training data\n",
    "            clf = SVC(C = C, gamma = gamma, shrinking = shrinking, kernel = kernel)\n",
    "            clf.fit(training_features, training_classes)\n",
    "            \n",
    "            # Store the model's score with the key (name of data set, model, model parameters)\n",
    "            all_model_scores[(dataset,\n",
    "                              'SVC',\n",
    "                              (C, gamma, shrinking, kernel))].append(clf.score(testing_features,\n",
    "                                                                                      testing_classes))"
   ]
  }
 ],
 "metadata": {
  "kernelspec": {
   "display_name": "Python 3",
   "language": "python",
   "name": "python3"
  },
  "language_info": {
   "codemirror_mode": {
    "name": "ipython",
    "version": 3
   },
   "file_extension": ".py",
   "mimetype": "text/x-python",
   "name": "python",
   "nbconvert_exporter": "python",
   "pygments_lexer": "ipython3",
   "version": "3.5.1"
  }
 },
 "nbformat": 4,
 "nbformat_minor": 0
}
