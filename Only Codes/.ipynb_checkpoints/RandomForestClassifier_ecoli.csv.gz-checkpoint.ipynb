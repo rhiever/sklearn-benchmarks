{
 "cells": [
  {
   "cell_type": "code",
   "execution_count": null,
   "metadata": {
    "collapsed": true
   },
   "outputs": [],
   "source": [
    "from glob import glob\n",
    "import pandas as pd\n",
    "from sklearn.ensemble import RandomForestClassifier\n",
    "from sklearn.cross_validation import StratifiedShuffleSplit\n",
    "import itertools\n",
    "from collections import defaultdict\n",
    "\n",
    "all_model_scores = defaultdict(list)\n",
    "\n",
    "# For every data set in the data repository...\n",
    "for dataset in glob('data/ecoli.csv.gz'):\n",
    "    # Read the data set into memory\n",
    "    input_data = pd.read_csv(dataset, compression='gzip')\n",
    "    \n",
    "    for dataset_repeat in range(1, 31):\n",
    "        # Divide the data set into a training and testing sets, each time with a different RNG seed\n",
    "        training_indices, testing_indices = next(iter(StratifiedShuffleSplit(input_data['class'].values,\n",
    "                                                                             n_iter=1,\n",
    "                                                                             train_size=0.75,\n",
    "                                                                             test_size=0.25,\n",
    "                                                                             random_state=dataset_repeat)))\n",
    "        \n",
    "        training_features = input_data.loc[training_indices].drop('class', axis=1).values\n",
    "        training_classes = input_data.loc[training_indices, 'class'].values\n",
    "\n",
    "        testing_features = input_data.loc[testing_indices].drop('class', axis=1).values\n",
    "        testing_classes = input_data.loc[testing_indices, 'class'].values\n",
    "        \n",
    "        # These are parameters listed in the project document\n",
    "        n_estimators_list = [10, 50, 100, 500, 1000]\n",
    "        criterion_list = ['gini', 'entropy']\n",
    "        max_features_list = [0.1, 0.25, 0.5, 0.75, 'sqrt', 'log2', None]\n",
    "        max_depth_list = [1, 2, 3, 4, 5, 10, 20, 50, None]\n",
    "        warm_start_list = [True, False]\n",
    "        # For every DecisionTreeClassifier parameter combination...\n",
    "        for (n_estimators, criterion, max_features, max_depth, warm_start) in itertools.product(n_estimators_list, \n",
    "                                                                                                criterion_list, \n",
    "                                                                                                max_features_list, \n",
    "                                                                                                max_depth_list, \n",
    "                                                                                                warm_start_list):\n",
    "            # Create and fit the model on the training data\n",
    "            clf = RandomForestClassifier(n_estimators = n_estimators, criterion = criterion, max_features = max_features, \n",
    "                                     max_depth = max_depth, warm_start = warm_start)\n",
    "            clf.fit(training_features, training_classes)\n",
    "            \n",
    "            # Store the model's score with the key (name of data set, model, model parameters)\n",
    "            all_model_scores[(dataset,\n",
    "                              'RandomForestClassifier',\n",
    "                              (n_estimators, criterion, max_features, max_depth, warm_start))].append(clf.score(testing_features,\n",
    "                                                                                      testing_classes))"
   ]
  }
 ],
 "metadata": {
  "kernelspec": {
   "display_name": "Python 3",
   "language": "python",
   "name": "python3"
  },
  "language_info": {
   "codemirror_mode": {
    "name": "ipython",
    "version": 3
   },
   "file_extension": ".py",
   "mimetype": "text/x-python",
   "name": "python",
   "nbconvert_exporter": "python",
   "pygments_lexer": "ipython3",
   "version": "3.5.1"
  }
 },
 "nbformat": 4,
 "nbformat_minor": 0
}
