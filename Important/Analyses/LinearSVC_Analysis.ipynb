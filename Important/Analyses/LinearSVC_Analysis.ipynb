{
 "cells": [
  {
   "cell_type": "code",
   "execution_count": null,
   "metadata": {
    "collapsed": true
   },
   "outputs": [],
   "source": [
    "import pandas as pd\n",
    "\n",
    "import numpy as np\n",
    "\n",
    "import matplotlib.pyplot as plt\n",
    "\n",
    "import pylab \n",
    "\n",
    "# This allows plots to appear directly in the notebook\n",
    "%matplotlib inline"
   ]
  },
  {
   "cell_type": "code",
   "execution_count": null,
   "metadata": {
    "collapsed": false
   },
   "outputs": [],
   "source": [
    "Cleaned_Data = pd.read_pickle('../Cleaned_Method_Wise_Data/LinearSVC_cleaned.tsv.gz')\n",
    "Cleaned_Data.head()"
   ]
  },
  {
   "cell_type": "code",
   "execution_count": null,
   "metadata": {
    "collapsed": false
   },
   "outputs": [],
   "source": [
    "Cleaned_Data['loss_categorical'] = Cleaned_Data.loss.map({'hinge':0, 'squared_hinge':1})\n",
    "Cleaned_Data.head()"
   ]
  },
  {
   "cell_type": "markdown",
   "metadata": {},
   "source": [
    "# Trials to plot Parameters against the Test Score"
   ]
  },
  {
   "cell_type": "code",
   "execution_count": null,
   "metadata": {
    "collapsed": false
   },
   "outputs": [],
   "source": [
    "import seaborn as sns\n",
    "sns.set()\n",
    "fig, axs = plt.subplots(3,1, sharey=True, figsize=(15,15)) # 3 rows 1 column, figsize controls how big I want the fig to look\n",
    "fig.subplots_adjust(hspace=1) # Give space between the subplots\n",
    "\n",
    "#boxplots\n",
    "sns.boxplot(data=Cleaned_Data, x='C', y='Test_Score', notch='T',ax=axs[0])\n",
    "sns.boxplot(data=Cleaned_Data, x='loss', y='Test_Score', notch='T',ax=axs[1])\n",
    "sns.boxplot(data=Cleaned_Data, x='max_iter', y='Test_Score', notch='T',ax=axs[2])"
   ]
  },
  {
   "cell_type": "code",
   "execution_count": null,
   "metadata": {
    "collapsed": false
   },
   "outputs": [],
   "source": [
    "# Best for categorical variable or string type entry\n",
    "\n",
    "fig, axs = plt.subplots(3,1, sharey=True, figsize=(10,10))\n",
    "\n",
    "sns.stripplot(x=\"C\", y=\"Test_Score\", data=Cleaned_Data, ax=axs[0])\n",
    "sns.stripplot(x=\"loss\", y=\"Test_Score\", data=Cleaned_Data, ax=axs[1])\n",
    "sns.stripplot(x=\"max_iter\", y=\"Test_Score\", data=Cleaned_Data, ax=axs[1])"
   ]
  },
  {
   "cell_type": "markdown",
   "metadata": {},
   "source": [
    "Analysis"
   ]
  },
  {
   "cell_type": "markdown",
   "metadata": {},
   "source": [
    "# Linear Regression on Combined Dataset"
   ]
  },
  {
   "cell_type": "code",
   "execution_count": null,
   "metadata": {
    "collapsed": false
   },
   "outputs": [],
   "source": [
    "import statsmodels.formula.api as smf\n",
    "\n",
    "lm = smf.ols(formula='Test_Score ~ C + loss + max_iter', data=Cleaned_Data).fit()\n",
    "lm.params\n",
    "lm.summary()"
   ]
  },
  {
   "cell_type": "markdown",
   "metadata": {},
   "source": [
    "Analysis\n"
   ]
  },
  {
   "cell_type": "markdown",
   "metadata": {},
   "source": [
    "# Dividing the dataframe into independent datsets"
   ]
  },
  {
   "cell_type": "code",
   "execution_count": null,
   "metadata": {
    "collapsed": false
   },
   "outputs": [],
   "source": [
    "Dataset_list=Cleaned_Data['Dataset_Name'].unique().tolist()\n",
    "print(Dataset_list)\n",
    "DatasetWiseData={}\n",
    "for Dataset_name in Dataset_list:\n",
    "    DatasetWiseData[Dataset_name] = Cleaned_Data[Cleaned_Data.Dataset_Name==Dataset_name]"
   ]
  },
  {
   "cell_type": "code",
   "execution_count": null,
   "metadata": {
    "collapsed": false
   },
   "outputs": [],
   "source": [
    "# Save the file\n",
    "\n",
    "import os\n",
    "#os.mkdir('../Cleaned_Method_Wise_Data/DecisionTreeClassifier_cleaned')\n",
    "DatasetWiseData['solar-flare_1'].to_pickle('../Cleaned_Method_Wise_Data/LinearSVC_cleaned/solar-flare_1.tsv.gz')"
   ]
  },
  {
   "cell_type": "code",
   "execution_count": null,
   "metadata": {
    "collapsed": false
   },
   "outputs": [],
   "source": [
    "# Read the file\n",
    "\n",
    "Dataset_DTC_Type = pd.read_pickle('../Cleaned_Method_Wise_Data/KNeighborsClassifier_cleaned/sponge.tsv.gz')\n",
    "print(Dataset_DTC_Type)"
   ]
  },
  {
   "cell_type": "markdown",
   "metadata": {},
   "source": [
    "# Plot and Linear Regression Analysis performed dataset wise"
   ]
  },
  {
   "cell_type": "code",
   "execution_count": null,
   "metadata": {
    "collapsed": false
   },
   "outputs": [],
   "source": [
    "# Loop through the entire files in the folder, open then and run the codes....\n",
    "\n",
    "indir = '../Cleaned_Method_Wise_Data/LinearSVC_cleaned/'\n",
    "for root, dirs, filenames in os.walk(indir):\n",
    "     for f in filenames:\n",
    "        print(f)\n",
    "        Dataset_Cleaned_Data = pd.read_pickle(indir+f)\n",
    "        plt.figure()   \n",
    "        sns.boxplot(data=Dataset_Cleaned_Data, x='C', y='Test_Score', notch='T')\n",
    "        sns.plt.title(f)\n",
    "        plt.figure() \n",
    "        sns.boxplot(data=Dataset_Cleaned_Data, x='loss', y='Test_Score', notch='T')\n",
    "        plt.figure()\n",
    "        sns.boxplot(data=Dataset_Cleaned_Data, x='max_iter', y='Test_Score', notch='T')\n",
    "        plt.figure()\n",
    "        sns.stripplot(x=\"C\", y=\"Test_Score\", data=Dataset_Cleaned_Data)\n",
    "        plt.figure() \n",
    "        sns.stripplot(x=\"loss\", y=\"Test_Score\", data=Dataset_Cleaned_Data)\n",
    "        plt.figure()\n",
    "        sns.stripplot(x=\"max_iter\", y=\"Test_Score\", data=Dataset_Cleaned_Data)\n",
    "        lm = smf.ols(formula='Test_Score ~ C + loss + max_iter', data=Dataset_Cleaned_Data).fit()\n",
    "        print(lm.summary())"
   ]
  },
  {
   "cell_type": "markdown",
   "metadata": {},
   "source": [
    "Analysis"
   ]
  }
 ],
 "metadata": {
  "kernelspec": {
   "display_name": "Python 3",
   "language": "python",
   "name": "python3"
  },
  "language_info": {
   "codemirror_mode": {
    "name": "ipython",
    "version": 3
   },
   "file_extension": ".py",
   "mimetype": "text/x-python",
   "name": "python",
   "nbconvert_exporter": "python",
   "pygments_lexer": "ipython3",
   "version": "3.5.1"
  }
 },
 "nbformat": 4,
 "nbformat_minor": 0
}
