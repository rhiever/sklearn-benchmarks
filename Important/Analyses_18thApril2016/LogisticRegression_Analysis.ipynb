{
 "cells": [
  {
   "cell_type": "markdown",
   "metadata": {
    "collapsed": true
   },
   "source": [
    "Note: The analysis has been done on the Benchmark Data provided on 18th April 2016. "
   ]
  },
  {
   "cell_type": "code",
   "execution_count": null,
   "metadata": {
    "collapsed": true
   },
   "outputs": [],
   "source": [
    "import pandas as pd\n",
    "\n",
    "import numpy as np\n",
    "\n",
    "import matplotlib.pyplot as plt\n",
    "\n",
    "import pylab \n",
    "\n",
    "# This allows plots to appear directly in the notebook\n",
    "%matplotlib inline"
   ]
  },
  {
   "cell_type": "code",
   "execution_count": null,
   "metadata": {
    "collapsed": true
   },
   "outputs": [],
   "source": [
    "Cleaned_Data = pd.read_pickle('../Cleaned_Method_Wise_Data/LogisticRegression_cleaned.tsv.gz')\n",
    "Cleaned_Data.head()"
   ]
  },
  {
   "cell_type": "code",
   "execution_count": null,
   "metadata": {
    "collapsed": true
   },
   "outputs": [],
   "source": [
    "Cleaned_Data.shape"
   ]
  },
  {
   "cell_type": "code",
   "execution_count": null,
   "metadata": {
    "collapsed": true
   },
   "outputs": [],
   "source": [
    "Cleaned_Data['weights_categorical'] = Cleaned_Data.weights.map({'unifrom':0, 'distance':1})\n",
    "Cleaned_Data.head()"
   ]
  },
  {
   "cell_type": "markdown",
   "metadata": {},
   "source": [
    "# Plot parameters against test scores"
   ]
  },
  {
   "cell_type": "code",
   "execution_count": null,
   "metadata": {
    "collapsed": true
   },
   "outputs": [],
   "source": [
    "import seaborn as sns\n",
    "sns.set()\n",
    "fig, axs = plt.subplots(2,1, sharey=True, figsize=(15,15)) # 3 rows 1 column, figsize controls how big I want the fig to look\n",
    "fig.subplots_adjust(hspace=1) # Give space between the subplots\n",
    "\n",
    "#boxplots\n",
    "sns.boxplot(data=Cleaned_Data, x='n_neighbors', y='Test_Score', notch='T',ax=axs[0])   #order of the n neighbors has to be sorted out\n",
    "sns.boxplot(data=Cleaned_Data, x='weights', y='Test_Score', notch='T',ax=axs[1])"
   ]
  },
  {
   "cell_type": "markdown",
   "metadata": {},
   "source": [
    "# Linear Regression on combined dataset"
   ]
  },
  {
   "cell_type": "code",
   "execution_count": null,
   "metadata": {
    "collapsed": true
   },
   "outputs": [],
   "source": [
    "import statsmodels.formula.api as smf\n",
    "\n",
    "lm = smf.ols(formula='Test_Score ~ n_neighbors + weights', data=Cleaned_Data).fit()\n",
    "lm.params\n",
    "lm.summary()\n"
   ]
  },
  {
   "cell_type": "markdown",
   "metadata": {},
   "source": [
    "# Dividing the dataframe into independent data sets\n"
   ]
  },
  {
   "cell_type": "code",
   "execution_count": null,
   "metadata": {
    "collapsed": true
   },
   "outputs": [],
   "source": [
    "Dataset_list=Cleaned_Data['Dataset_Name'].unique().tolist()\n",
    "print(Dataset_list)\n",
    "DatasetWiseData={}\n",
    "for Dataset_name in Dataset_list:\n",
    "    DatasetWiseData[Dataset_name] = Cleaned_Data[Cleaned_Data.Dataset_Name==Dataset_name]"
   ]
  },
  {
   "cell_type": "code",
   "execution_count": null,
   "metadata": {
    "collapsed": true
   },
   "outputs": [],
   "source": [
    "# Save the file\n",
    "\n",
    "import os\n",
    "#os.mkdir('../Cleaned_Method_Wise_Data/DecisionTreeClassifier_cleaned')\n",
    "DatasetWiseData['trains'].to_pickle('../Cleaned_Method_Wise_Data/KNeighborsClassifier_cleaned/trains.tsv.gz')"
   ]
  },
  {
   "cell_type": "code",
   "execution_count": null,
   "metadata": {
    "collapsed": true
   },
   "outputs": [],
   "source": [
    "# Read the file\n",
    "\n",
    "Dataset_DTC_Type = pd.read_pickle('../Cleaned_Method_Wise_Data/KNeighborsClassifier_cleaned/cars1.tsv.gz')\n",
    "print(Dataset_DTC_Type)"
   ]
  },
  {
   "cell_type": "markdown",
   "metadata": {},
   "source": [
    "# Plotting and Linear Regression Analysis performed data wise"
   ]
  },
  {
   "cell_type": "code",
   "execution_count": null,
   "metadata": {
    "collapsed": true
   },
   "outputs": [],
   "source": [
    "# Loop through the entire files in the folder, open then and run the codes....\n",
    "\n",
    "import os\n",
    "indir = '../Cleaned_Method_Wise_Data/KNeighborsClassifier_cleaned/'\n",
    "for root, dirs, filenames in os.walk(indir):\n",
    "     for f in filenames:\n",
    "        print(f)\n",
    "        Dataset_Cleaned_Data = pd.read_pickle(indir+f)\n",
    "        plt.figure()   \n",
    "        sns.boxplot(data=Dataset_Cleaned_Data, x='n_neighbors', y='Test_Score', notch='T')\n",
    "        sns.plt.title(f)\n",
    "        plt.figure() \n",
    "        sns.boxplot(data=Dataset_Cleaned_Data, x='weights', y='Test_Score', notch='T')\n",
    "        lm = smf.ols(formula='Test_Score ~ n_neighbors + weights', data=Dataset_Cleaned_Data).fit()\n",
    "        print(lm.summary())"
   ]
  }
 ],
 "metadata": {
  "kernelspec": {
   "display_name": "Python 3",
   "language": "python",
   "name": "python3"
  },
  "language_info": {
   "codemirror_mode": {
    "name": "ipython",
    "version": 3
   },
   "file_extension": ".py",
   "mimetype": "text/x-python",
   "name": "python",
   "nbconvert_exporter": "python",
   "pygments_lexer": "ipython3",
   "version": "3.5.1"
  }
 },
 "nbformat": 4,
 "nbformat_minor": 0
}
