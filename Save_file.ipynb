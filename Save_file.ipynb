import os
import gzip

if not os.path.isdir('benchmark_results'):
    os.mkdir('benchmark_results')

with gzip.open('benchmark_results/DecisionTreeClassifier-benchmarks.tsv.gz', 'w') as out_file:
    header_text = '\t'.join(['dataset',
                              'model',
                              'parameters',
                              'testing_score']) + '\n'
    out_file.write(header_text.encode('UTF-8'))
    
    for (dataset, model, params) in all_model_scores:
        param_string = ''
        param_string += 'C={},'.format(params[0])
        param_string += 'loss={},'.format(params[1])
        param_string += 'penalty={}'.format(params[2])
        param_string += 'max_iter={}'.format(params[2])
        
        for testing_score in all_model_scores[(dataset, model, params)]:
            out_text = '\t'.join([dataset[5:-7],
                                  model,
                                  param_string,
                                  str(testing_score)]) + '\n'
            out_file.write(out_text.encode('UTF-8'))
            print(out_text) 