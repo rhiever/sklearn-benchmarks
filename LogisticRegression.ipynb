from glob import glob
import pandas as pd
from sklearn.linear_model import LogisticRegression
from sklearn.cross_validation import StratifiedShuffleSplit
import itertools
from collections import defaultdict

all_model_scores = defaultdict(list)

# For every data set in the data repository...
for dataset in glob('data/ecoli.csv.gz'):
    # Read the data set into memory
    input_data = pd.read_csv(dataset, compression='gzip')
    
    for dataset_repeat in range(1, 30):
        # Divide the data set into a training and testing sets, each time with a different RNG seed
        training_indices, testing_indices = next(iter(StratifiedShuffleSplit(input_data['class'].values,
                                                                             n_iter=1,
                                                                             train_size=0.75,
                                                                             test_size=0.25,
                                                                             random_state=dataset_repeat)))
        
        training_features = input_data.loc[training_indices].drop('class', axis=1).values
        training_classes = input_data.loc[training_indices, 'class'].values

        testing_features = input_data.loc[testing_indices].drop('class', axis=1).values
        testing_classes = input_data.loc[testing_indices, 'class'].values
        
        # These are parameters listed in the project document
        penalty_list = ['l1','l2']
        C_list = [0.5, 1.0, 2.0, 10.0, 50.0, 100.0]
        
        # For every DecisionTreeClassifier parameter combination...
        for (C, penalty) in itertools.product(C_list, penalty_list):
            # Create and fit the model on the training data
            clf = LogisticRegression(C=C, penalty=penalty)
            clf.fit(training_features, training_classes)
            
            # Store the model's score with the key (name of data set, model, model parameters)
            all_model_scores[(dataset,
                              'LogisticRegression',
                              (C, penalty))].append(clf.score(testing_features,
                                                              testing_classes))