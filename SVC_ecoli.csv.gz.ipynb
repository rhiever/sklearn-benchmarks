{
 "cells": [
  {
   "cell_type": "code",
   "execution_count": 3,
   "metadata": {
    "collapsed": false
   },
   "outputs": [
    {
     "ename": "SyntaxError",
     "evalue": "invalid syntax (<ipython-input-3-400bb5615044>, line 34)",
     "output_type": "error",
     "traceback": [
      "\u001b[1;36m  File \u001b[1;32m\"<ipython-input-3-400bb5615044>\"\u001b[1;36m, line \u001b[1;32m34\u001b[0m\n\u001b[1;33m    degree_list(for kernel_list == 'poly' only): 2, 3, 4\u001b[0m\n\u001b[1;37m                  ^\u001b[0m\n\u001b[1;31mSyntaxError\u001b[0m\u001b[1;31m:\u001b[0m invalid syntax\n"
     ]
    }
   ],
   "source": [
    "from glob import glob\n",
    "import pandas as pd\n",
    "from sklearn.svm import SVC\n",
    "from sklearn.cross_validation import StratifiedShuffleSplit\n",
    "import itertools\n",
    "from collections import defaultdict\n",
    "\n",
    "all_model_scores = defaultdict(list)\n",
    "\n",
    "# For every data set in the data repository...\n",
    "for dataset in glob('data/ecoli.csv.gz'):\n",
    "    # Read the data set into memory\n",
    "    input_data = pd.read_csv(dataset, compression='gzip')\n",
    "    \n",
    "    for dataset_repeat in range(1, 31):\n",
    "        # Divide the data set into a training and testing sets, each time with a different RNG seed\n",
    "        training_indices, testing_indices = next(iter(StratifiedShuffleSplit(input_data['class'].values,\n",
    "                                                                             n_iter=1,\n",
    "                                                                             train_size=0.75,\n",
    "                                                                             test_size=0.25,\n",
    "                                                                             random_state=dataset_repeat)))\n",
    "        \n",
    "        training_features = input_data.loc[training_indices].drop('class', axis=1).values\n",
    "        training_classes = input_data.loc[training_indices, 'class'].values\n",
    "\n",
    "        testing_features = input_data.loc[testing_indices].drop('class', axis=1).values\n",
    "        testing_classes = input_data.loc[testing_indices, 'class'].values\n",
    "        \n",
    "        # These are parameters listed in the project document\n",
    "        C_list = [0.01, 0.1, 0.5, 1.0, 10.0, 50.0, 100.0]\n",
    "        gamma_list = [0.01, 0.1, 0.5, 1.0, 10.0, 50.0, 100.0]\n",
    "        shrinking_list = [True, False]\n",
    "        kernel_list = ['linear', 'poly', 'rbf', 'sigmoid', 'precomputed']\n",
    "        degree_list(for kernel_list == 'poly' only): 2, 3, 4\n",
    "        # For every DecisionTreeClassifier parameter combination...\n",
    "        for (C, gamma, shrinking, kernel, degree) in itertools.product(C_list, gamma_list, shrinking_list, kernel_list, degree_list):\n",
    "            # Create and fit the model on the training data\n",
    "            clf = SVC(C = C, gamma = gamma, shrinking = shrinking, kernel = kernel, degree = degree)\n",
    "            clf.fit(training_features, training_classes)\n",
    "            \n",
    "            # Store the model's score with the key (name of data set, model, model parameters)\n",
    "            all_model_scores[(dataset,\n",
    "                              'SVC',\n",
    "                              (C, gamma, shrinking, kernel, degree))].append(clf.score(testing_features,\n",
    "                                                                                      testing_classes))"
   ]
  }
 ],
 "metadata": {
  "kernelspec": {
   "display_name": "Python 3",
   "language": "python",
   "name": "python3"
  },
  "language_info": {
   "codemirror_mode": {
    "name": "ipython",
    "version": 3
   },
   "file_extension": ".py",
   "mimetype": "text/x-python",
   "name": "python",
   "nbconvert_exporter": "python",
   "pygments_lexer": "ipython3",
   "version": "3.5.1"
  }
 },
 "nbformat": 4,
 "nbformat_minor": 0
}
