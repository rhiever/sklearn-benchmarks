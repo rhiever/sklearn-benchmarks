{
 "cells": [
  {
   "cell_type": "code",
   "execution_count": 2,
   "metadata": {
    "collapsed": false
   },
   "outputs": [],
   "source": [
    "import pandas as pd\n",
    "\n",
    "import matplotlib.pyplot as plt\n",
    "\n",
    "# this allows plots to appear directly in the notebook\n",
    "%matplotlib inline"
   ]
  },
  {
   "cell_type": "code",
   "execution_count": 4,
   "metadata": {
    "collapsed": false
   },
   "outputs": [
    {
     "data": {
      "text/html": [
       "<div>\n",
       "<table border=\"1\" class=\"dataframe\">\n",
       "  <thead>\n",
       "    <tr style=\"text-align: right;\">\n",
       "      <th></th>\n",
       "      <th>Dataset_Name</th>\n",
       "      <th>Method_Name</th>\n",
       "      <th>Test_Score</th>\n",
       "      <th>learning_rate</th>\n",
       "      <th>n_estimators</th>\n",
       "    </tr>\n",
       "  </thead>\n",
       "  <tbody>\n",
       "    <tr>\n",
       "      <th>0</th>\n",
       "      <td>trains</td>\n",
       "      <td>AdaBoostClassifier</td>\n",
       "      <td>0.5</td>\n",
       "      <td>0.01</td>\n",
       "      <td>10</td>\n",
       "    </tr>\n",
       "    <tr>\n",
       "      <th>1</th>\n",
       "      <td>trains</td>\n",
       "      <td>AdaBoostClassifier</td>\n",
       "      <td>0.5</td>\n",
       "      <td>0.01</td>\n",
       "      <td>10</td>\n",
       "    </tr>\n",
       "    <tr>\n",
       "      <th>2</th>\n",
       "      <td>trains</td>\n",
       "      <td>AdaBoostClassifier</td>\n",
       "      <td>0.5</td>\n",
       "      <td>0.01</td>\n",
       "      <td>10</td>\n",
       "    </tr>\n",
       "    <tr>\n",
       "      <th>3</th>\n",
       "      <td>trains</td>\n",
       "      <td>AdaBoostClassifier</td>\n",
       "      <td>0.5</td>\n",
       "      <td>0.01</td>\n",
       "      <td>10</td>\n",
       "    </tr>\n",
       "    <tr>\n",
       "      <th>4</th>\n",
       "      <td>trains</td>\n",
       "      <td>AdaBoostClassifier</td>\n",
       "      <td>0.5</td>\n",
       "      <td>0.01</td>\n",
       "      <td>10</td>\n",
       "    </tr>\n",
       "  </tbody>\n",
       "</table>\n",
       "</div>"
      ],
      "text/plain": [
       "  Dataset_Name         Method_Name  Test_Score  learning_rate  n_estimators\n",
       "0       trains  AdaBoostClassifier         0.5           0.01            10\n",
       "1       trains  AdaBoostClassifier         0.5           0.01            10\n",
       "2       trains  AdaBoostClassifier         0.5           0.01            10\n",
       "3       trains  AdaBoostClassifier         0.5           0.01            10\n",
       "4       trains  AdaBoostClassifier         0.5           0.01            10"
      ]
     },
     "execution_count": 4,
     "metadata": {},
     "output_type": "execute_result"
    }
   ],
   "source": [
    "data = pd.read_pickle('HPCC_benchmark_results/AdaBoostClassifier-hpcc_results.tsv.gz')\n",
    "data_split1 = pd.DataFrame(data.Param1.str.split('=').tolist(),\n",
    "                                   columns = ['Param_Name','learning_rate'])\n",
    "data_split2 = pd.DataFrame(data.Param2.str.split('=').tolist(),\n",
    "                                   columns = ['Param_Name','n_estimators'])\n",
    "method_data1 = data.drop('Param1',1)   #delete the Parameters column from the original dataframe\n",
    "method_data1 = method_data1.drop('Param2',1)\n",
    "data_split1 = data_split1.drop('Param_Name',1)\n",
    "data_split2 = data_split2.drop('Param_Name',1)\n",
    "\n",
    "idx = data_split1.index.get_values()              #get the index of the parameter dataframe  \n",
    "#idx\n",
    "method_data2 = method_data1.set_index(idx)         #set the index of method dataframe same as parameter dataframe\n",
    "#kneighbor_data2\n",
    "data = pd.concat([method_data2, data_split1, data_split2], axis = 1)    #finally add the parameter columns to get the result (desired format)\n",
    "#result\n",
    "\n",
    "# You must cast the data as a float type -- it was parsed into a string type\n",
    "data['learning_rate'] = data['learning_rate'].astype(float)\n",
    "data['n_estimators'] = data['n_estimators'].astype(float)\n",
    "\n",
    "data.head()"
   ]
  },
  {
   "cell_type": "code",
   "execution_count": 5,
   "metadata": {
    "collapsed": false
   },
   "outputs": [
    {
     "data": {
      "text/plain": [
       "(10500, 5)"
      ]
     },
     "execution_count": 5,
     "metadata": {},
     "output_type": "execute_result"
    }
   ],
   "source": [
    "data.shape"
   ]
  },
  {
   "cell_type": "code",
   "execution_count": 7,
   "metadata": {
    "collapsed": false,
    "scrolled": false
   },
   "outputs": [
    {
     "data": {
      "text/plain": [
       "<seaborn.axisgrid.JointGrid at 0x17cfe363f28>"
      ]
     },
     "execution_count": 7,
     "metadata": {},
     "output_type": "execute_result"
    },
    {
     "data": {
      "text/plain": [
       "<matplotlib.figure.Figure at 0x17cfe186390>"
      ]
     },
     "metadata": {},
     "output_type": "display_data"
    },
    {
     "data": {
      "image/png": "[encoded data removed]",
      "text/plain": [
       "<matplotlib.figure.Figure at 0x17cfe2f4278>"
      ]
     },
     "metadata": {},
     "output_type": "display_data"
    },
    {
     "data": {
      "text/plain": [
       "<matplotlib.figure.Figure at 0x17cfe2f4240>"
      ]
     },
     "metadata": {},
     "output_type": "display_data"
    },
    {
     "data": {
      "image/png": "[encoded data removed]",
      "text/plain": [
       "<matplotlib.figure.Figure at 0x17cfe363ef0>"
      ]
     },
     "metadata": {},
     "output_type": "display_data"
    }
   ],
   "source": [
    "import seaborn as sb\n",
    "\n",
    "plt.figure()\n",
    "sb.jointplot(data=data, kind='reg', x='learning_rate', y='Test_Score')\n",
    "\n",
    "plt.figure()\n",
    "sb.jointplot(data=data, kind='reg', x='n_estimators', y='Test_Score')"
   ]
  },
  {
   "cell_type": "code",
   "execution_count": 29,
   "metadata": {
    "collapsed": false
   },
   "outputs": [
    {
     "data": {
      "text/plain": [
       "Intercept       0.603914\n",
       "n_estimators    0.000007\n",
       "dtype: float64"
      ]
     },
     "execution_count": 29,
     "metadata": {},
     "output_type": "execute_result"
    }
   ],
   "source": [
    "# this is the standard import if you're using \"formula notation\" (similar to R)\n",
    "import statsmodels.formula.api as smf\n",
    "\n",
    "# create a fitted model in one line\n",
    "lr = smf.ols(formula='Test_Score ~ learning_rate', data=data).fit()\n",
    "ne = smf.ols(formula='Test_Score ~ n_estimators', data=data).fit()\n",
    "# print the coefficients\n",
    "lr.params\n",
    "ne.params"
   ]
  },
  {
   "cell_type": "code",
   "execution_count": 30,
   "metadata": {
    "collapsed": false
   },
   "outputs": [
    {
     "data": {
      "text/html": [
       "<div>\n",
       "<table border=\"1\" class=\"dataframe\">\n",
       "  <thead>\n",
       "    <tr style=\"text-align: right;\">\n",
       "      <th></th>\n",
       "      <th>n_estimators</th>\n",
       "    </tr>\n",
       "  </thead>\n",
       "  <tbody>\n",
       "    <tr>\n",
       "      <th>0</th>\n",
       "      <td>0.01</td>\n",
       "    </tr>\n",
       "  </tbody>\n",
       "</table>\n",
       "</div>"
      ],
      "text/plain": [
       "   n_estimators\n",
       "0          0.01"
      ]
     },
     "execution_count": 30,
     "metadata": {},
     "output_type": "execute_result"
    }
   ],
   "source": [
    "# you have to create a DataFrame since the Statsmodels formula interface expects it\n",
    "X_new = pd.DataFrame({'learning_rate': [0.01]})\n",
    "X_new_ne = pd.DataFrame({'n_estimators': [500]})\n",
    "X_new.head()\n",
    "X_new_ne.head()"
   ]
  },
  {
   "cell_type": "code",
   "execution_count": 32,
   "metadata": {
    "collapsed": false
   },
   "outputs": [
    {
     "data": {
      "text/plain": [
       "array([ 0.60391404])"
      ]
     },
     "execution_count": 32,
     "metadata": {},
     "output_type": "execute_result"
    }
   ],
   "source": [
    "# use the model to make predictions on a new value\n",
    "#lr.predict(X_new)\n",
    "ne.predict(X_new_ne)"
   ]
  },
  {
   "cell_type": "code",
   "execution_count": null,
   "metadata": {
    "collapsed": true
   },
   "outputs": [],
   "source": []
  },
  {
   "cell_type": "code",
   "execution_count": 33,
   "metadata": {
    "collapsed": false
   },
   "outputs": [
    {
     "data": {
      "text/html": [
       "<div>\n",
       "<table border=\"1\" class=\"dataframe\">\n",
       "  <thead>\n",
       "    <tr style=\"text-align: right;\">\n",
       "      <th></th>\n",
       "      <th>n_estimators</th>\n",
       "    </tr>\n",
       "  </thead>\n",
       "  <tbody>\n",
       "    <tr>\n",
       "      <th>0</th>\n",
       "      <td>10</td>\n",
       "    </tr>\n",
       "    <tr>\n",
       "      <th>1</th>\n",
       "      <td>1000</td>\n",
       "    </tr>\n",
       "  </tbody>\n",
       "</table>\n",
       "</div>"
      ],
      "text/plain": [
       "   n_estimators\n",
       "0            10\n",
       "1          1000"
      ]
     },
     "execution_count": 33,
     "metadata": {},
     "output_type": "execute_result"
    }
   ],
   "source": [
    "# create a DataFrame with the minimum and maximum values of TV\n",
    "#X_new = pd.DataFrame({'learning_rate': [data.learning_rate.min(), data.learning_rate.max()]})\n",
    "#X_new.head()\n",
    "X_new_ne = pd.DataFrame({'n_estimators': [data.n_estimators.min(), data.n_estimators.max()]})\n",
    "X_new_ne.head()"
   ]
  },
  {
   "cell_type": "code",
   "execution_count": 34,
   "metadata": {
    "collapsed": false
   },
   "outputs": [
    {
     "data": {
      "text/plain": [
       "array([ 0.60397976,  0.61049223])"
      ]
     },
     "execution_count": 34,
     "metadata": {},
     "output_type": "execute_result"
    }
   ],
   "source": [
    "# make predictions for those x values and store them\n",
    "#preds = lm.predict(X_new)\n",
    "#preds\n",
    "preds = ne.predict(X_new_ne)\n",
    "preds"
   ]
  },
  {
   "cell_type": "code",
   "execution_count": null,
   "metadata": {
    "collapsed": true
   },
   "outputs": [],
   "source": []
  },
  {
   "cell_type": "code",
   "execution_count": 35,
   "metadata": {
    "collapsed": false
   },
   "outputs": [
    {
     "data": {
      "text/plain": [
       "[<matplotlib.lines.Line2D at 0x17cffbf1668>]"
      ]
     },
     "execution_count": 35,
     "metadata": {},
     "output_type": "execute_result"
    },
    {
     "data": {
      "image/png": "[encoded data removed]",
      "text/plain": [
       "<matplotlib.figure.Figure at 0x17cffbf1fd0>"
      ]
     },
     "metadata": {},
     "output_type": "display_data"
    }
   ],
   "source": [
    "# first, plot the observed data\n",
    "#data.plot(kind='scatter', x='learning_rate', y='Test_Score')\n",
    "\n",
    "# then, plot the least squares line\n",
    "#plt.plot(X_new, preds, c='red', linewidth=2)\n",
    "\n",
    "# first, plot the observed data\n",
    "data.plot(kind='scatter', x='n_estimators', y='Test_Score')\n",
    "\n",
    "# then, plot the least squares line\n",
    "plt.plot(X_new_ne, preds, c='red', linewidth=2)"
   ]
  },
  {
   "cell_type": "code",
   "execution_count": 36,
   "metadata": {
    "collapsed": false
   },
   "outputs": [
    {
     "data": {
      "text/html": [
       "<div>\n",
       "<table border=\"1\" class=\"dataframe\">\n",
       "  <thead>\n",
       "    <tr style=\"text-align: right;\">\n",
       "      <th></th>\n",
       "      <th>0</th>\n",
       "      <th>1</th>\n",
       "    </tr>\n",
       "  </thead>\n",
       "  <tbody>\n",
       "    <tr>\n",
       "      <th>Intercept</th>\n",
       "      <td>0.597076</td>\n",
       "      <td>0.610751</td>\n",
       "    </tr>\n",
       "    <tr>\n",
       "      <th>n_estimators</th>\n",
       "      <td>-0.000007</td>\n",
       "      <td>0.000020</td>\n",
       "    </tr>\n",
       "  </tbody>\n",
       "</table>\n",
       "</div>"
      ],
      "text/plain": [
       "                     0         1\n",
       "Intercept     0.597076  0.610751\n",
       "n_estimators -0.000007  0.000020"
      ]
     },
     "execution_count": 36,
     "metadata": {},
     "output_type": "execute_result"
    }
   ],
   "source": [
    "# print the confidence intervals for the model coefficients\n",
    "#lr.conf_int()\n",
    "# print the confidence intervals for the model coefficients\n",
    "ne.conf_int()"
   ]
  },
  {
   "cell_type": "code",
   "execution_count": 37,
   "metadata": {
    "collapsed": false
   },
   "outputs": [
    {
     "data": {
      "text/plain": [
       "Intercept       0.000000\n",
       "n_estimators    0.343315\n",
       "dtype: float64"
      ]
     },
     "execution_count": 37,
     "metadata": {},
     "output_type": "execute_result"
    }
   ],
   "source": [
    "# print the p-values for the model coefficients\n",
    "#lr.pvalues\n",
    "# print the p-values for the model coefficients\n",
    "ne.pvalues"
   ]
  },
  {
   "cell_type": "code",
   "execution_count": 38,
   "metadata": {
    "collapsed": false
   },
   "outputs": [
    {
     "data": {
      "text/plain": [
       "8.5541670056810126e-05"
      ]
     },
     "execution_count": 38,
     "metadata": {},
     "output_type": "execute_result"
    }
   ],
   "source": [
    "# print the R-squared value for the model\n",
    "#lr.rsquared\n",
    "# print the R-squared value for the model\n",
    "ne.rsquared"
   ]
  },
  {
   "cell_type": "code",
   "execution_count": 40,
   "metadata": {
    "collapsed": false
   },
   "outputs": [
    {
     "data": {
      "text/plain": [
       "Intercept                     6.877868e-01\n",
       "learning_rate                -3.632881e-03\n",
       "n_estimators                  8.378367e-06\n",
       "learning_rate:n_estimators   -7.797016e-08\n",
       "dtype: float64"
      ]
     },
     "execution_count": 40,
     "metadata": {},
     "output_type": "execute_result"
    }
   ],
   "source": [
    "# create a fitted model with all two features\n",
    "lm = smf.ols(formula='Test_Score ~ learning_rate + n_estimators + learning_rate * n_estimators', data=data).fit()\n",
    "\n",
    "# print the coefficients\n",
    "lm.params"
   ]
  },
  {
   "cell_type": "code",
   "execution_count": 41,
   "metadata": {
    "collapsed": false
   },
   "outputs": [
    {
     "data": {
      "text/html": [
       "<table class=\"simpletable\">\n",
       "<caption>OLS Regression Results</caption>\n",
       "<tr>\n",
       "  <th>Dep. Variable:</th>       <td>Test_Score</td>    <th>  R-squared:         </th> <td>   0.236</td>\n",
       "</tr>\n",
       "<tr>\n",
       "  <th>Model:</th>                   <td>OLS</td>       <th>  Adj. R-squared:    </th> <td>   0.236</td>\n",
       "</tr>\n",
       "<tr>\n",
       "  <th>Method:</th>             <td>Least Squares</td>  <th>  F-statistic:       </th> <td>   1079.</td>\n",
       "</tr>\n",
       "<tr>\n",
       "  <th>Date:</th>             <td>Sun, 13 Mar 2016</td> <th>  Prob (F-statistic):</th>  <td>  0.00</td> \n",
       "</tr>\n",
       "<tr>\n",
       "  <th>Time:</th>                 <td>11:38:09</td>     <th>  Log-Likelihood:    </th> <td>  327.03</td>\n",
       "</tr>\n",
       "<tr>\n",
       "  <th>No. Observations:</th>      <td> 10500</td>      <th>  AIC:               </th> <td>  -646.1</td>\n",
       "</tr>\n",
       "<tr>\n",
       "  <th>Df Residuals:</th>          <td> 10496</td>      <th>  BIC:               </th> <td>  -617.0</td>\n",
       "</tr>\n",
       "<tr>\n",
       "  <th>Df Model:</th>              <td>     3</td>      <th>                     </th>     <td> </td>   \n",
       "</tr>\n",
       "<tr>\n",
       "  <th>Covariance Type:</th>      <td>nonrobust</td>    <th>                     </th>     <td> </td>   \n",
       "</tr>\n",
       "</table>\n",
       "<table class=\"simpletable\">\n",
       "<tr>\n",
       "               <td></td>                 <th>coef</th>     <th>std err</th>      <th>t</th>      <th>P>|t|</th> <th>[95.0% Conf. Int.]</th> \n",
       "</tr>\n",
       "<tr>\n",
       "  <th>Intercept</th>                  <td>    0.6878</td> <td>    0.004</td> <td>  189.207</td> <td> 0.000</td> <td>    0.681     0.695</td>\n",
       "</tr>\n",
       "<tr>\n",
       "  <th>learning_rate</th>              <td>   -0.0036</td> <td> 8.57e-05</td> <td>  -42.403</td> <td> 0.000</td> <td>   -0.004    -0.003</td>\n",
       "</tr>\n",
       "<tr>\n",
       "  <th>n_estimators</th>               <td> 8.378e-06</td> <td> 7.23e-06</td> <td>    1.158</td> <td> 0.247</td> <td> -5.8e-06  2.26e-05</td>\n",
       "</tr>\n",
       "<tr>\n",
       "  <th>learning_rate:n_estimators</th> <td>-7.797e-08</td> <td>  1.7e-07</td> <td>   -0.457</td> <td> 0.647</td> <td>-4.12e-07  2.56e-07</td>\n",
       "</tr>\n",
       "</table>\n",
       "<table class=\"simpletable\">\n",
       "<tr>\n",
       "  <th>Omnibus:</th>       <td>595.207</td> <th>  Durbin-Watson:     </th> <td>   0.564</td> \n",
       "</tr>\n",
       "<tr>\n",
       "  <th>Prob(Omnibus):</th> <td> 0.000</td>  <th>  Jarque-Bera (JB):  </th> <td> 702.150</td> \n",
       "</tr>\n",
       "<tr>\n",
       "  <th>Skew:</th>          <td>-0.633</td>  <th>  Prob(JB):          </th> <td>3.39e-153</td>\n",
       "</tr>\n",
       "<tr>\n",
       "  <th>Kurtosis:</th>      <td> 2.986</td>  <th>  Cond. No.          </th> <td>3.39e+04</td> \n",
       "</tr>\n",
       "</table>"
      ],
      "text/plain": [
       "<class 'statsmodels.iolib.summary.Summary'>\n",
       "\"\"\"\n",
       "                            OLS Regression Results                            \n",
       "==============================================================================\n",
       "Dep. Variable:             Test_Score   R-squared:                       0.236\n",
       "Model:                            OLS   Adj. R-squared:                  0.236\n",
       "Method:                 Least Squares   F-statistic:                     1079.\n",
       "Date:                Sun, 13 Mar 2016   Prob (F-statistic):               0.00\n",
       "Time:                        11:38:09   Log-Likelihood:                 327.03\n",
       "No. Observations:               10500   AIC:                            -646.1\n",
       "Df Residuals:                   10496   BIC:                            -617.0\n",
       "Df Model:                           3                                         \n",
       "Covariance Type:            nonrobust                                         \n",
       "==============================================================================================\n",
       "                                 coef    std err          t      P>|t|      [95.0% Conf. Int.]\n",
       "----------------------------------------------------------------------------------------------\n",
       "Intercept                      0.6878      0.004    189.207      0.000         0.681     0.695\n",
       "learning_rate                 -0.0036   8.57e-05    -42.403      0.000        -0.004    -0.003\n",
       "n_estimators                8.378e-06   7.23e-06      1.158      0.247      -5.8e-06  2.26e-05\n",
       "learning_rate:n_estimators -7.797e-08    1.7e-07     -0.457      0.647     -4.12e-07  2.56e-07\n",
       "==============================================================================\n",
       "Omnibus:                      595.207   Durbin-Watson:                   0.564\n",
       "Prob(Omnibus):                  0.000   Jarque-Bera (JB):              702.150\n",
       "Skew:                          -0.633   Prob(JB):                    3.39e-153\n",
       "Kurtosis:                       2.986   Cond. No.                     3.39e+04\n",
       "==============================================================================\n",
       "\n",
       "Warnings:\n",
       "[1] Standard Errors assume that the covariance matrix of the errors is correctly specified.\n",
       "[2] The condition number is large, 3.39e+04. This might indicate that there are\n",
       "strong multicollinearity or other numerical problems.\n",
       "\"\"\""
      ]
     },
     "execution_count": 41,
     "metadata": {},
     "output_type": "execute_result"
    }
   ],
   "source": [
    "# print a summary of the fitted model\n",
    "lm.summary()"
   ]
  }
 ],
 "metadata": {
  "kernelspec": {
   "display_name": "Python 3",
   "language": "python",
   "name": "python3"
  },
  "language_info": {
   "codemirror_mode": {
    "name": "ipython",
    "version": 3
   },
   "file_extension": ".py",
   "mimetype": "text/x-python",
   "name": "python",
   "nbconvert_exporter": "python",
   "pygments_lexer": "ipython3",
   "version": "3.5.1"
  }
 },
 "nbformat": 4,
 "nbformat_minor": 0
}
