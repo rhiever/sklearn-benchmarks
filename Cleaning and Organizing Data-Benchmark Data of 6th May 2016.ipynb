{
 "cells": [
  {
   "cell_type": "markdown",
   "metadata": {},
   "source": [
    "# Import Pandas and Rename the Columns"
   ]
  },
  {
   "cell_type": "code",
   "execution_count": 14,
   "metadata": {
    "collapsed": false
   },
   "outputs": [
    {
     "data": {
      "text/html": [
       "<div>\n",
       "<table border=\"1\" class=\"dataframe\">\n",
       "  <thead>\n",
       "    <tr style=\"text-align: right;\">\n",
       "      <th></th>\n",
       "      <th>tae</th>\n",
       "      <th>LinearSVC</th>\n",
       "      <th>C=0.01,loss=hinge,penalty=l2,dual=True,tol=0.1</th>\n",
       "      <th>0.421052631579</th>\n",
       "    </tr>\n",
       "  </thead>\n",
       "  <tbody>\n",
       "    <tr>\n",
       "      <th>0</th>\n",
       "      <td>tae</td>\n",
       "      <td>LinearSVC</td>\n",
       "      <td>C=0.01,loss=hinge,penalty=l2,dual=True,tol=0.1</td>\n",
       "      <td>0.578947</td>\n",
       "    </tr>\n",
       "    <tr>\n",
       "      <th>1</th>\n",
       "      <td>tae</td>\n",
       "      <td>LinearSVC</td>\n",
       "      <td>C=0.01,loss=hinge,penalty=l2,dual=True,tol=0.1</td>\n",
       "      <td>0.500000</td>\n",
       "    </tr>\n",
       "    <tr>\n",
       "      <th>2</th>\n",
       "      <td>tae</td>\n",
       "      <td>LinearSVC</td>\n",
       "      <td>C=0.01,loss=hinge,penalty=l2,dual=True,tol=0.1</td>\n",
       "      <td>0.473684</td>\n",
       "    </tr>\n",
       "    <tr>\n",
       "      <th>3</th>\n",
       "      <td>tae</td>\n",
       "      <td>LinearSVC</td>\n",
       "      <td>C=0.01,loss=hinge,penalty=l2,dual=True,tol=0.1</td>\n",
       "      <td>0.500000</td>\n",
       "    </tr>\n",
       "    <tr>\n",
       "      <th>4</th>\n",
       "      <td>tae</td>\n",
       "      <td>LinearSVC</td>\n",
       "      <td>C=0.01,loss=hinge,penalty=l2,dual=True,tol=0.1</td>\n",
       "      <td>0.578947</td>\n",
       "    </tr>\n",
       "  </tbody>\n",
       "</table>\n",
       "</div>"
      ],
      "text/plain": [
       "   tae  LinearSVC  C=0.01,loss=hinge,penalty=l2,dual=True,tol=0.1  \\\n",
       "0  tae  LinearSVC  C=0.01,loss=hinge,penalty=l2,dual=True,tol=0.1   \n",
       "1  tae  LinearSVC  C=0.01,loss=hinge,penalty=l2,dual=True,tol=0.1   \n",
       "2  tae  LinearSVC  C=0.01,loss=hinge,penalty=l2,dual=True,tol=0.1   \n",
       "3  tae  LinearSVC  C=0.01,loss=hinge,penalty=l2,dual=True,tol=0.1   \n",
       "4  tae  LinearSVC  C=0.01,loss=hinge,penalty=l2,dual=True,tol=0.1   \n",
       "\n",
       "   0.421052631579  \n",
       "0        0.578947  \n",
       "1        0.500000  \n",
       "2        0.473684  \n",
       "3        0.500000  \n",
       "4        0.578947  "
      ]
     },
     "execution_count": 14,
     "metadata": {},
     "output_type": "execute_result"
    }
   ],
   "source": [
    "%matplotlib inline\n",
    "import pandas as pd\n",
    "import matplotlib.pyplot as plt\n",
    "\n",
    "benchmark_data = pd.read_csv('sklearn-benchmark-data.tsv.gz', sep='\\t')\n",
    "benchmark_data.head()"
   ]
  },
  {
   "cell_type": "code",
   "execution_count": 15,
   "metadata": {
    "collapsed": false
   },
   "outputs": [
    {
     "data": {
      "text/html": [
       "<div>\n",
       "<table border=\"1\" class=\"dataframe\">\n",
       "  <thead>\n",
       "    <tr style=\"text-align: right;\">\n",
       "      <th></th>\n",
       "      <th>Dataset_Name</th>\n",
       "      <th>Method_Name</th>\n",
       "      <th>Parameters</th>\n",
       "      <th>Test_Score</th>\n",
       "    </tr>\n",
       "  </thead>\n",
       "  <tbody>\n",
       "    <tr>\n",
       "      <th>0</th>\n",
       "      <td>tae</td>\n",
       "      <td>LinearSVC</td>\n",
       "      <td>C=0.01,loss=hinge,penalty=l2,dual=True,tol=0.1</td>\n",
       "      <td>0.578947</td>\n",
       "    </tr>\n",
       "    <tr>\n",
       "      <th>1</th>\n",
       "      <td>tae</td>\n",
       "      <td>LinearSVC</td>\n",
       "      <td>C=0.01,loss=hinge,penalty=l2,dual=True,tol=0.1</td>\n",
       "      <td>0.500000</td>\n",
       "    </tr>\n",
       "    <tr>\n",
       "      <th>2</th>\n",
       "      <td>tae</td>\n",
       "      <td>LinearSVC</td>\n",
       "      <td>C=0.01,loss=hinge,penalty=l2,dual=True,tol=0.1</td>\n",
       "      <td>0.473684</td>\n",
       "    </tr>\n",
       "    <tr>\n",
       "      <th>3</th>\n",
       "      <td>tae</td>\n",
       "      <td>LinearSVC</td>\n",
       "      <td>C=0.01,loss=hinge,penalty=l2,dual=True,tol=0.1</td>\n",
       "      <td>0.500000</td>\n",
       "    </tr>\n",
       "    <tr>\n",
       "      <th>4</th>\n",
       "      <td>tae</td>\n",
       "      <td>LinearSVC</td>\n",
       "      <td>C=0.01,loss=hinge,penalty=l2,dual=True,tol=0.1</td>\n",
       "      <td>0.578947</td>\n",
       "    </tr>\n",
       "  </tbody>\n",
       "</table>\n",
       "</div>"
      ],
      "text/plain": [
       "  Dataset_Name Method_Name                                      Parameters  \\\n",
       "0          tae   LinearSVC  C=0.01,loss=hinge,penalty=l2,dual=True,tol=0.1   \n",
       "1          tae   LinearSVC  C=0.01,loss=hinge,penalty=l2,dual=True,tol=0.1   \n",
       "2          tae   LinearSVC  C=0.01,loss=hinge,penalty=l2,dual=True,tol=0.1   \n",
       "3          tae   LinearSVC  C=0.01,loss=hinge,penalty=l2,dual=True,tol=0.1   \n",
       "4          tae   LinearSVC  C=0.01,loss=hinge,penalty=l2,dual=True,tol=0.1   \n",
       "\n",
       "   Test_Score  \n",
       "0    0.578947  \n",
       "1    0.500000  \n",
       "2    0.473684  \n",
       "3    0.500000  \n",
       "4    0.578947  "
      ]
     },
     "execution_count": 15,
     "metadata": {},
     "output_type": "execute_result"
    }
   ],
   "source": [
    "benchmark_data.rename(columns={'tae':'Dataset_Name',\n",
    "                               'LinearSVC':'Method_Name',\n",
    "                               'C=0.01,loss=hinge,penalty=l2,dual=True,tol=0.1':'Parameters',\n",
    "                               '0.421052631579':'Test_Score'},inplace=True)\n",
    "benchmark_data.head()"
   ]
  },
  {
   "cell_type": "markdown",
   "metadata": {},
   "source": [
    "# Preliminary Analysis"
   ]
  },
  {
   "cell_type": "code",
   "execution_count": 4,
   "metadata": {
    "collapsed": false
   },
   "outputs": [
    {
     "data": {
      "text/html": [
       "<div>\n",
       "<table border=\"1\" class=\"dataframe\">\n",
       "  <thead>\n",
       "    <tr style=\"text-align: right;\">\n",
       "      <th></th>\n",
       "      <th>Test_Score</th>\n",
       "    </tr>\n",
       "  </thead>\n",
       "  <tbody>\n",
       "    <tr>\n",
       "      <th>count</th>\n",
       "      <td>27471660.000000</td>\n",
       "    </tr>\n",
       "    <tr>\n",
       "      <th>mean</th>\n",
       "      <td>0.725256</td>\n",
       "    </tr>\n",
       "    <tr>\n",
       "      <th>std</th>\n",
       "      <td>0.229029</td>\n",
       "    </tr>\n",
       "    <tr>\n",
       "      <th>min</th>\n",
       "      <td>0.000000</td>\n",
       "    </tr>\n",
       "    <tr>\n",
       "      <th>25%</th>\n",
       "      <td>0.575658</td>\n",
       "    </tr>\n",
       "    <tr>\n",
       "      <th>50%</th>\n",
       "      <td>0.769231</td>\n",
       "    </tr>\n",
       "    <tr>\n",
       "      <th>75%</th>\n",
       "      <td>0.920455</td>\n",
       "    </tr>\n",
       "    <tr>\n",
       "      <th>max</th>\n",
       "      <td>1.000000</td>\n",
       "    </tr>\n",
       "  </tbody>\n",
       "</table>\n",
       "</div>"
      ],
      "text/plain": [
       "            Test_Score\n",
       "count  27471660.000000\n",
       "mean          0.725256\n",
       "std           0.229029\n",
       "min           0.000000\n",
       "25%           0.575658\n",
       "50%           0.769231\n",
       "75%           0.920455\n",
       "max           1.000000"
      ]
     },
     "execution_count": 4,
     "metadata": {},
     "output_type": "execute_result"
    }
   ],
   "source": [
    "benchmark_data.describe()"
   ]
  },
  {
   "cell_type": "code",
   "execution_count": 4,
   "metadata": {
    "collapsed": false
   },
   "outputs": [
    {
     "data": {
      "text/plain": [
       "(27471660, 4)"
      ]
     },
     "execution_count": 4,
     "metadata": {},
     "output_type": "execute_result"
    }
   ],
   "source": [
    "benchmark_data.shape"
   ]
  },
  {
   "cell_type": "markdown",
   "metadata": {},
   "source": [
    "# List all the methods so as to divide the dataset into multiple dataframes"
   ]
  },
  {
   "cell_type": "code",
   "execution_count": 16,
   "metadata": {
    "collapsed": false
   },
   "outputs": [
    {
     "data": {
      "text/plain": [
       "['LinearSVC',\n",
       " 'ExtraTreesClassifier',\n",
       " 'SVC',\n",
       " 'DecisionTreeClassifier',\n",
       " 'GradientBoostingClassifier',\n",
       " 'AdaBoostClassifier',\n",
       " 'KNeighborsClassifier',\n",
       " 'MultinomialNB',\n",
       " 'XGBClassifier',\n",
       " 'LogisticRegression',\n",
       " 'SGDClassifier',\n",
       " 'RandomForestClassifier']"
      ]
     },
     "execution_count": 16,
     "metadata": {},
     "output_type": "execute_result"
    }
   ],
   "source": [
    "names_list=benchmark_data['Dataset_Name'].unique().tolist()\n",
    "methods_list=benchmark_data['Method_Name'].unique().tolist()\n",
    "names_list\n",
    "methods_list"
   ]
  },
  {
   "cell_type": "code",
   "execution_count": 6,
   "metadata": {
    "collapsed": false
   },
   "outputs": [
    {
     "data": {
      "text/plain": [
       "12"
      ]
     },
     "execution_count": 6,
     "metadata": {},
     "output_type": "execute_result"
    }
   ],
   "source": [
    "len(methods_list)"
   ]
  },
  {
   "cell_type": "code",
   "execution_count": 17,
   "metadata": {
    "collapsed": true
   },
   "outputs": [],
   "source": [
    "#split the dataframe into multiple dataframes by the method name\n",
    "methods_list=benchmark_data['Method_Name'].unique().tolist()\n",
    "MethodWiseData={}\n",
    "for method_name in methods_list:\n",
    "    MethodWiseData[method_name] = benchmark_data[benchmark_data.Method_Name==method_name]"
   ]
  },
  {
   "cell_type": "markdown",
   "metadata": {},
   "source": [
    "# Make a folder to save the file"
   ]
  },
  {
   "cell_type": "code",
   "execution_count": 18,
   "metadata": {
    "collapsed": false
   },
   "outputs": [],
   "source": [
    "# make a folder and save a file\n",
    "import os\n",
    "if not os.path.isdir('Benchmark_Results_6thMay2016'):\n",
    "    os.mkdir('Benchmark_Results_6thMay2016') \n",
    "\n",
    "MethodWiseData['LinearSVC'].to_pickle('Benchmark_Results_6thMay2016/LinearSVC.tsv.gz')"
   ]
  },
  {
   "cell_type": "code",
   "execution_count": 19,
   "metadata": {
    "collapsed": false
   },
   "outputs": [
    {
     "name": "stdout",
     "output_type": "stream",
     "text": [
      "            Dataset_Name Method_Name  \\\n",
      "0                    tae   LinearSVC   \n",
      "1                    tae   LinearSVC   \n",
      "2                    tae   LinearSVC   \n",
      "3                    tae   LinearSVC   \n",
      "4                    tae   LinearSVC   \n",
      "5                    tae   LinearSVC   \n",
      "6                    tae   LinearSVC   \n",
      "7                    tae   LinearSVC   \n",
      "8                    tae   LinearSVC   \n",
      "9                    tae   LinearSVC   \n",
      "10                   tae   LinearSVC   \n",
      "11                   tae   LinearSVC   \n",
      "12                   tae   LinearSVC   \n",
      "13                   tae   LinearSVC   \n",
      "14                   tae   LinearSVC   \n",
      "15                   tae   LinearSVC   \n",
      "16                   tae   LinearSVC   \n",
      "17                   tae   LinearSVC   \n",
      "18                   tae   LinearSVC   \n",
      "19                   tae   LinearSVC   \n",
      "20                   tae   LinearSVC   \n",
      "21                   tae   LinearSVC   \n",
      "22                   tae   LinearSVC   \n",
      "23                   tae   LinearSVC   \n",
      "24                   tae   LinearSVC   \n",
      "25                   tae   LinearSVC   \n",
      "26                   tae   LinearSVC   \n",
      "27                   tae   LinearSVC   \n",
      "28                   tae   LinearSVC   \n",
      "29                   tae   LinearSVC   \n",
      "...                  ...         ...   \n",
      "27204173  liver-disorder   LinearSVC   \n",
      "27204174  liver-disorder   LinearSVC   \n",
      "27204175  liver-disorder   LinearSVC   \n",
      "27204176  liver-disorder   LinearSVC   \n",
      "27204177  liver-disorder   LinearSVC   \n",
      "27204178  liver-disorder   LinearSVC   \n",
      "27204179  liver-disorder   LinearSVC   \n",
      "27204180  liver-disorder   LinearSVC   \n",
      "27204181  liver-disorder   LinearSVC   \n",
      "27204182  liver-disorder   LinearSVC   \n",
      "27204183  liver-disorder   LinearSVC   \n",
      "27204184  liver-disorder   LinearSVC   \n",
      "27204185  liver-disorder   LinearSVC   \n",
      "27204186  liver-disorder   LinearSVC   \n",
      "27204187  liver-disorder   LinearSVC   \n",
      "27204188  liver-disorder   LinearSVC   \n",
      "27204189  liver-disorder   LinearSVC   \n",
      "27204190  liver-disorder   LinearSVC   \n",
      "27204191  liver-disorder   LinearSVC   \n",
      "27204192  liver-disorder   LinearSVC   \n",
      "27204193  liver-disorder   LinearSVC   \n",
      "27204194  liver-disorder   LinearSVC   \n",
      "27204195  liver-disorder   LinearSVC   \n",
      "27204196  liver-disorder   LinearSVC   \n",
      "27204197  liver-disorder   LinearSVC   \n",
      "27204198  liver-disorder   LinearSVC   \n",
      "27204199  liver-disorder   LinearSVC   \n",
      "27204200  liver-disorder   LinearSVC   \n",
      "27204201  liver-disorder   LinearSVC   \n",
      "27204202  liver-disorder   LinearSVC   \n",
      "\n",
      "                                                 Parameters  Test_Score  \n",
      "0            C=0.01,loss=hinge,penalty=l2,dual=True,tol=0.1    0.578947  \n",
      "1            C=0.01,loss=hinge,penalty=l2,dual=True,tol=0.1    0.500000  \n",
      "2            C=0.01,loss=hinge,penalty=l2,dual=True,tol=0.1    0.473684  \n",
      "3            C=0.01,loss=hinge,penalty=l2,dual=True,tol=0.1    0.500000  \n",
      "4            C=0.01,loss=hinge,penalty=l2,dual=True,tol=0.1    0.578947  \n",
      "5            C=0.01,loss=hinge,penalty=l2,dual=True,tol=0.1    0.552632  \n",
      "6            C=0.01,loss=hinge,penalty=l2,dual=True,tol=0.1    0.473684  \n",
      "7            C=0.01,loss=hinge,penalty=l2,dual=True,tol=0.1    0.552632  \n",
      "8            C=0.01,loss=hinge,penalty=l2,dual=True,tol=0.1    0.526316  \n",
      "9            C=0.01,loss=hinge,penalty=l2,dual=True,tol=0.1    0.526316  \n",
      "10           C=0.01,loss=hinge,penalty=l2,dual=True,tol=0.1    0.605263  \n",
      "11           C=0.01,loss=hinge,penalty=l2,dual=True,tol=0.1    0.552632  \n",
      "12           C=0.01,loss=hinge,penalty=l2,dual=True,tol=0.1    0.526316  \n",
      "13           C=0.01,loss=hinge,penalty=l2,dual=True,tol=0.1    0.631579  \n",
      "14           C=0.01,loss=hinge,penalty=l2,dual=True,tol=0.1    0.526316  \n",
      "15           C=0.01,loss=hinge,penalty=l2,dual=True,tol=0.1    0.684211  \n",
      "16           C=0.01,loss=hinge,penalty=l2,dual=True,tol=0.1    0.605263  \n",
      "17           C=0.01,loss=hinge,penalty=l2,dual=True,tol=0.1    0.473684  \n",
      "18           C=0.01,loss=hinge,penalty=l2,dual=True,tol=0.1    0.631579  \n",
      "19           C=0.01,loss=hinge,penalty=l2,dual=True,tol=0.1    0.552632  \n",
      "20           C=0.01,loss=hinge,penalty=l2,dual=True,tol=0.1    0.552632  \n",
      "21           C=0.01,loss=hinge,penalty=l2,dual=True,tol=0.1    0.421053  \n",
      "22           C=0.01,loss=hinge,penalty=l2,dual=True,tol=0.1    0.789474  \n",
      "23           C=0.01,loss=hinge,penalty=l2,dual=True,tol=0.1    0.526316  \n",
      "24           C=0.01,loss=hinge,penalty=l2,dual=True,tol=0.1    0.631579  \n",
      "25           C=0.01,loss=hinge,penalty=l2,dual=True,tol=0.1    0.605263  \n",
      "26           C=0.01,loss=hinge,penalty=l2,dual=True,tol=0.1    0.578947  \n",
      "27           C=0.01,loss=hinge,penalty=l2,dual=True,tol=0.1    0.421053  \n",
      "28           C=0.01,loss=hinge,penalty=l2,dual=True,tol=0.1    0.578947  \n",
      "29          C=0.01,loss=hinge,penalty=l2,dual=True,tol=0.01    0.421053  \n",
      "...                                                     ...         ...  \n",
      "27204173  C=100.0,loss=squared_hinge,penalty=l2,dual=Fal...    0.747126  \n",
      "27204174  C=100.0,loss=squared_hinge,penalty=l2,dual=Fal...    0.666667  \n",
      "27204175  C=100.0,loss=squared_hinge,penalty=l2,dual=Fal...    0.747126  \n",
      "27204176  C=100.0,loss=squared_hinge,penalty=l2,dual=Fal...    0.678161  \n",
      "27204177  C=100.0,loss=squared_hinge,penalty=l2,dual=Fal...    0.678161  \n",
      "27204178  C=100.0,loss=squared_hinge,penalty=l2,dual=Fal...    0.666667  \n",
      "27204179  C=100.0,loss=squared_hinge,penalty=l2,dual=Fal...    0.689655  \n",
      "27204180  C=100.0,loss=squared_hinge,penalty=l2,dual=Fal...    0.678161  \n",
      "27204181  C=100.0,loss=squared_hinge,penalty=l2,dual=Fal...    0.643678  \n",
      "27204182  C=100.0,loss=squared_hinge,penalty=l2,dual=Fal...    0.689655  \n",
      "27204183  C=100.0,loss=squared_hinge,penalty=l2,dual=Fal...    0.689655  \n",
      "27204184  C=100.0,loss=squared_hinge,penalty=l2,dual=Fal...    0.689655  \n",
      "27204185  C=100.0,loss=squared_hinge,penalty=l2,dual=Fal...    0.689655  \n",
      "27204186  C=100.0,loss=squared_hinge,penalty=l2,dual=Fal...    0.678161  \n",
      "27204187  C=100.0,loss=squared_hinge,penalty=l2,dual=Fal...    0.724138  \n",
      "27204188  C=100.0,loss=squared_hinge,penalty=l2,dual=Fal...    0.678161  \n",
      "27204189  C=100.0,loss=squared_hinge,penalty=l2,dual=Fal...    0.701149  \n",
      "27204190  C=100.0,loss=squared_hinge,penalty=l2,dual=Fal...    0.758621  \n",
      "27204191  C=100.0,loss=squared_hinge,penalty=l2,dual=Fal...    0.724138  \n",
      "27204192  C=100.0,loss=squared_hinge,penalty=l2,dual=Fal...    0.678161  \n",
      "27204193  C=100.0,loss=squared_hinge,penalty=l2,dual=Fal...    0.632184  \n",
      "27204194  C=100.0,loss=squared_hinge,penalty=l2,dual=Fal...    0.678161  \n",
      "27204195  C=100.0,loss=squared_hinge,penalty=l2,dual=Fal...    0.666667  \n",
      "27204196  C=100.0,loss=squared_hinge,penalty=l2,dual=Fal...    0.655172  \n",
      "27204197  C=100.0,loss=squared_hinge,penalty=l2,dual=Fal...    0.643678  \n",
      "27204198  C=100.0,loss=squared_hinge,penalty=l2,dual=Fal...    0.655172  \n",
      "27204199  C=100.0,loss=squared_hinge,penalty=l2,dual=Fal...    0.712644  \n",
      "27204200  C=100.0,loss=squared_hinge,penalty=l2,dual=Fal...    0.609195  \n",
      "27204201  C=100.0,loss=squared_hinge,penalty=l2,dual=Fal...    0.689655  \n",
      "27204202  C=100.0,loss=squared_hinge,penalty=l2,dual=Fal...    0.701149  \n",
      "\n",
      "[722399 rows x 4 columns]\n"
     ]
    },
    {
     "data": {
      "text/html": [
       "<div>\n",
       "<table border=\"1\" class=\"dataframe\">\n",
       "  <thead>\n",
       "    <tr style=\"text-align: right;\">\n",
       "      <th></th>\n",
       "      <th>Dataset_Name</th>\n",
       "      <th>Method_Name</th>\n",
       "      <th>Parameters</th>\n",
       "      <th>Test_Score</th>\n",
       "    </tr>\n",
       "  </thead>\n",
       "  <tbody>\n",
       "    <tr>\n",
       "      <th>0</th>\n",
       "      <td>tae</td>\n",
       "      <td>LinearSVC</td>\n",
       "      <td>C=0.01,loss=hinge,penalty=l2,dual=True,tol=0.1</td>\n",
       "      <td>0.578947</td>\n",
       "    </tr>\n",
       "    <tr>\n",
       "      <th>1</th>\n",
       "      <td>tae</td>\n",
       "      <td>LinearSVC</td>\n",
       "      <td>C=0.01,loss=hinge,penalty=l2,dual=True,tol=0.1</td>\n",
       "      <td>0.500000</td>\n",
       "    </tr>\n",
       "    <tr>\n",
       "      <th>2</th>\n",
       "      <td>tae</td>\n",
       "      <td>LinearSVC</td>\n",
       "      <td>C=0.01,loss=hinge,penalty=l2,dual=True,tol=0.1</td>\n",
       "      <td>0.473684</td>\n",
       "    </tr>\n",
       "    <tr>\n",
       "      <th>3</th>\n",
       "      <td>tae</td>\n",
       "      <td>LinearSVC</td>\n",
       "      <td>C=0.01,loss=hinge,penalty=l2,dual=True,tol=0.1</td>\n",
       "      <td>0.500000</td>\n",
       "    </tr>\n",
       "    <tr>\n",
       "      <th>4</th>\n",
       "      <td>tae</td>\n",
       "      <td>LinearSVC</td>\n",
       "      <td>C=0.01,loss=hinge,penalty=l2,dual=True,tol=0.1</td>\n",
       "      <td>0.578947</td>\n",
       "    </tr>\n",
       "  </tbody>\n",
       "</table>\n",
       "</div>"
      ],
      "text/plain": [
       "  Dataset_Name Method_Name                                      Parameters  \\\n",
       "0          tae   LinearSVC  C=0.01,loss=hinge,penalty=l2,dual=True,tol=0.1   \n",
       "1          tae   LinearSVC  C=0.01,loss=hinge,penalty=l2,dual=True,tol=0.1   \n",
       "2          tae   LinearSVC  C=0.01,loss=hinge,penalty=l2,dual=True,tol=0.1   \n",
       "3          tae   LinearSVC  C=0.01,loss=hinge,penalty=l2,dual=True,tol=0.1   \n",
       "4          tae   LinearSVC  C=0.01,loss=hinge,penalty=l2,dual=True,tol=0.1   \n",
       "\n",
       "   Test_Score  \n",
       "0    0.578947  \n",
       "1    0.500000  \n",
       "2    0.473684  \n",
       "3    0.500000  \n",
       "4    0.578947  "
      ]
     },
     "execution_count": 19,
     "metadata": {},
     "output_type": "execute_result"
    }
   ],
   "source": [
    "# Read the file\n",
    "Method_Type = pd.read_pickle('Benchmark_Results_6thMay2016/LinearSVC.tsv.gz')\n",
    "print (Method_Type)\n",
    "Method_Type.head()"
   ]
  },
  {
   "cell_type": "markdown",
   "metadata": {},
   "source": [
    "Note: To run the code for all parameters, it is required to change in the above section the method name appropriately. Also below the number of parameters have to be inputted approprietly and the parameter name has to be changed as well to achieve the data cleaning for all methods"
   ]
  },
  {
   "cell_type": "markdown",
   "metadata": {},
   "source": [
    "# Split the Parameters columns (Every method has different number of parameters)"
   ]
  },
  {
   "cell_type": "code",
   "execution_count": 20,
   "metadata": {
    "collapsed": false
   },
   "outputs": [
    {
     "data": {
      "text/plain": [
       "<bound method NDFrame.head of          Param1              Param2      Param3      Param4     Param5\n",
       "0        C=0.01          loss=hinge  penalty=l2   dual=True    tol=0.1\n",
       "1        C=0.01          loss=hinge  penalty=l2   dual=True    tol=0.1\n",
       "2        C=0.01          loss=hinge  penalty=l2   dual=True    tol=0.1\n",
       "3        C=0.01          loss=hinge  penalty=l2   dual=True    tol=0.1\n",
       "4        C=0.01          loss=hinge  penalty=l2   dual=True    tol=0.1\n",
       "5        C=0.01          loss=hinge  penalty=l2   dual=True    tol=0.1\n",
       "6        C=0.01          loss=hinge  penalty=l2   dual=True    tol=0.1\n",
       "7        C=0.01          loss=hinge  penalty=l2   dual=True    tol=0.1\n",
       "8        C=0.01          loss=hinge  penalty=l2   dual=True    tol=0.1\n",
       "9        C=0.01          loss=hinge  penalty=l2   dual=True    tol=0.1\n",
       "10       C=0.01          loss=hinge  penalty=l2   dual=True    tol=0.1\n",
       "11       C=0.01          loss=hinge  penalty=l2   dual=True    tol=0.1\n",
       "12       C=0.01          loss=hinge  penalty=l2   dual=True    tol=0.1\n",
       "13       C=0.01          loss=hinge  penalty=l2   dual=True    tol=0.1\n",
       "14       C=0.01          loss=hinge  penalty=l2   dual=True    tol=0.1\n",
       "15       C=0.01          loss=hinge  penalty=l2   dual=True    tol=0.1\n",
       "16       C=0.01          loss=hinge  penalty=l2   dual=True    tol=0.1\n",
       "17       C=0.01          loss=hinge  penalty=l2   dual=True    tol=0.1\n",
       "18       C=0.01          loss=hinge  penalty=l2   dual=True    tol=0.1\n",
       "19       C=0.01          loss=hinge  penalty=l2   dual=True    tol=0.1\n",
       "20       C=0.01          loss=hinge  penalty=l2   dual=True    tol=0.1\n",
       "21       C=0.01          loss=hinge  penalty=l2   dual=True    tol=0.1\n",
       "22       C=0.01          loss=hinge  penalty=l2   dual=True    tol=0.1\n",
       "23       C=0.01          loss=hinge  penalty=l2   dual=True    tol=0.1\n",
       "24       C=0.01          loss=hinge  penalty=l2   dual=True    tol=0.1\n",
       "25       C=0.01          loss=hinge  penalty=l2   dual=True    tol=0.1\n",
       "26       C=0.01          loss=hinge  penalty=l2   dual=True    tol=0.1\n",
       "27       C=0.01          loss=hinge  penalty=l2   dual=True    tol=0.1\n",
       "28       C=0.01          loss=hinge  penalty=l2   dual=True    tol=0.1\n",
       "29       C=0.01          loss=hinge  penalty=l2   dual=True   tol=0.01\n",
       "...         ...                 ...         ...         ...        ...\n",
       "722369  C=100.0  loss=squared_hinge  penalty=l2  dual=False  tol=1e-05\n",
       "722370  C=100.0  loss=squared_hinge  penalty=l2  dual=False  tol=1e-05\n",
       "722371  C=100.0  loss=squared_hinge  penalty=l2  dual=False  tol=1e-05\n",
       "722372  C=100.0  loss=squared_hinge  penalty=l2  dual=False  tol=1e-05\n",
       "722373  C=100.0  loss=squared_hinge  penalty=l2  dual=False  tol=1e-05\n",
       "722374  C=100.0  loss=squared_hinge  penalty=l2  dual=False  tol=1e-05\n",
       "722375  C=100.0  loss=squared_hinge  penalty=l2  dual=False  tol=1e-05\n",
       "722376  C=100.0  loss=squared_hinge  penalty=l2  dual=False  tol=1e-05\n",
       "722377  C=100.0  loss=squared_hinge  penalty=l2  dual=False  tol=1e-05\n",
       "722378  C=100.0  loss=squared_hinge  penalty=l2  dual=False  tol=1e-05\n",
       "722379  C=100.0  loss=squared_hinge  penalty=l2  dual=False  tol=1e-05\n",
       "722380  C=100.0  loss=squared_hinge  penalty=l2  dual=False  tol=1e-05\n",
       "722381  C=100.0  loss=squared_hinge  penalty=l2  dual=False  tol=1e-05\n",
       "722382  C=100.0  loss=squared_hinge  penalty=l2  dual=False  tol=1e-05\n",
       "722383  C=100.0  loss=squared_hinge  penalty=l2  dual=False  tol=1e-05\n",
       "722384  C=100.0  loss=squared_hinge  penalty=l2  dual=False  tol=1e-05\n",
       "722385  C=100.0  loss=squared_hinge  penalty=l2  dual=False  tol=1e-05\n",
       "722386  C=100.0  loss=squared_hinge  penalty=l2  dual=False  tol=1e-05\n",
       "722387  C=100.0  loss=squared_hinge  penalty=l2  dual=False  tol=1e-05\n",
       "722388  C=100.0  loss=squared_hinge  penalty=l2  dual=False  tol=1e-05\n",
       "722389  C=100.0  loss=squared_hinge  penalty=l2  dual=False  tol=1e-05\n",
       "722390  C=100.0  loss=squared_hinge  penalty=l2  dual=False  tol=1e-05\n",
       "722391  C=100.0  loss=squared_hinge  penalty=l2  dual=False  tol=1e-05\n",
       "722392  C=100.0  loss=squared_hinge  penalty=l2  dual=False  tol=1e-05\n",
       "722393  C=100.0  loss=squared_hinge  penalty=l2  dual=False  tol=1e-05\n",
       "722394  C=100.0  loss=squared_hinge  penalty=l2  dual=False  tol=1e-05\n",
       "722395  C=100.0  loss=squared_hinge  penalty=l2  dual=False  tol=1e-05\n",
       "722396  C=100.0  loss=squared_hinge  penalty=l2  dual=False  tol=1e-05\n",
       "722397  C=100.0  loss=squared_hinge  penalty=l2  dual=False  tol=1e-05\n",
       "722398  C=100.0  loss=squared_hinge  penalty=l2  dual=False  tol=1e-05\n",
       "\n",
       "[722399 rows x 5 columns]>"
      ]
     },
     "execution_count": 20,
     "metadata": {},
     "output_type": "execute_result"
    }
   ],
   "source": [
    "Param_Split = pd.DataFrame(Method_Type.Parameters.str.split(',').tolist(),\n",
    "                                   columns = ['Param1','Param2', 'Param3', 'Param4', 'Param5'])\n",
    "Param_Split.head"
   ]
  },
  {
   "cell_type": "code",
   "execution_count": 21,
   "metadata": {
    "collapsed": false
   },
   "outputs": [
    {
     "data": {
      "text/html": [
       "<div>\n",
       "<table border=\"1\" class=\"dataframe\">\n",
       "  <thead>\n",
       "    <tr style=\"text-align: right;\">\n",
       "      <th></th>\n",
       "      <th>Dataset_Name</th>\n",
       "      <th>Method_Name</th>\n",
       "      <th>Test_Score</th>\n",
       "      <th>Param1</th>\n",
       "      <th>Param2</th>\n",
       "      <th>Param3</th>\n",
       "      <th>Param4</th>\n",
       "      <th>Param5</th>\n",
       "    </tr>\n",
       "  </thead>\n",
       "  <tbody>\n",
       "    <tr>\n",
       "      <th>0</th>\n",
       "      <td>tae</td>\n",
       "      <td>LinearSVC</td>\n",
       "      <td>0.578947</td>\n",
       "      <td>C=0.01</td>\n",
       "      <td>loss=hinge</td>\n",
       "      <td>penalty=l2</td>\n",
       "      <td>dual=True</td>\n",
       "      <td>tol=0.1</td>\n",
       "    </tr>\n",
       "    <tr>\n",
       "      <th>1</th>\n",
       "      <td>tae</td>\n",
       "      <td>LinearSVC</td>\n",
       "      <td>0.500000</td>\n",
       "      <td>C=0.01</td>\n",
       "      <td>loss=hinge</td>\n",
       "      <td>penalty=l2</td>\n",
       "      <td>dual=True</td>\n",
       "      <td>tol=0.1</td>\n",
       "    </tr>\n",
       "    <tr>\n",
       "      <th>2</th>\n",
       "      <td>tae</td>\n",
       "      <td>LinearSVC</td>\n",
       "      <td>0.473684</td>\n",
       "      <td>C=0.01</td>\n",
       "      <td>loss=hinge</td>\n",
       "      <td>penalty=l2</td>\n",
       "      <td>dual=True</td>\n",
       "      <td>tol=0.1</td>\n",
       "    </tr>\n",
       "    <tr>\n",
       "      <th>3</th>\n",
       "      <td>tae</td>\n",
       "      <td>LinearSVC</td>\n",
       "      <td>0.500000</td>\n",
       "      <td>C=0.01</td>\n",
       "      <td>loss=hinge</td>\n",
       "      <td>penalty=l2</td>\n",
       "      <td>dual=True</td>\n",
       "      <td>tol=0.1</td>\n",
       "    </tr>\n",
       "    <tr>\n",
       "      <th>4</th>\n",
       "      <td>tae</td>\n",
       "      <td>LinearSVC</td>\n",
       "      <td>0.578947</td>\n",
       "      <td>C=0.01</td>\n",
       "      <td>loss=hinge</td>\n",
       "      <td>penalty=l2</td>\n",
       "      <td>dual=True</td>\n",
       "      <td>tol=0.1</td>\n",
       "    </tr>\n",
       "  </tbody>\n",
       "</table>\n",
       "</div>"
      ],
      "text/plain": [
       "  Dataset_Name Method_Name  Test_Score  Param1      Param2      Param3  \\\n",
       "0          tae   LinearSVC    0.578947  C=0.01  loss=hinge  penalty=l2   \n",
       "1          tae   LinearSVC    0.500000  C=0.01  loss=hinge  penalty=l2   \n",
       "2          tae   LinearSVC    0.473684  C=0.01  loss=hinge  penalty=l2   \n",
       "3          tae   LinearSVC    0.500000  C=0.01  loss=hinge  penalty=l2   \n",
       "4          tae   LinearSVC    0.578947  C=0.01  loss=hinge  penalty=l2   \n",
       "\n",
       "      Param4   Param5  \n",
       "0  dual=True  tol=0.1  \n",
       "1  dual=True  tol=0.1  \n",
       "2  dual=True  tol=0.1  \n",
       "3  dual=True  tol=0.1  \n",
       "4  dual=True  tol=0.1  "
      ]
     },
     "execution_count": 21,
     "metadata": {},
     "output_type": "execute_result"
    }
   ],
   "source": [
    "Method_Type1 = Method_Type.drop('Parameters', 1)    #delete the Parameters column from the original dataframe\n",
    "index = Param_Split.index.get_values()              #get the index of the parameter dataframe  \n",
    "Method_Type2 = Method_Type1.set_index(index)          #set the index of method dataframe same as parameter dataframe\n",
    "result = pd.concat([Method_Type2, Param_Split], axis = 1)    #finally add the parameter columns to get the result (desired format)\n",
    "result.head()"
   ]
  },
  {
   "cell_type": "code",
   "execution_count": 22,
   "metadata": {
    "collapsed": false
   },
   "outputs": [
    {
     "data": {
      "text/html": [
       "<div>\n",
       "<table border=\"1\" class=\"dataframe\">\n",
       "  <thead>\n",
       "    <tr style=\"text-align: right;\">\n",
       "      <th></th>\n",
       "      <th>Dataset_Name</th>\n",
       "      <th>Method_Name</th>\n",
       "      <th>Test_Score</th>\n",
       "      <th>C</th>\n",
       "      <th>loss</th>\n",
       "      <th>penalty</th>\n",
       "      <th>dual</th>\n",
       "      <th>tol</th>\n",
       "    </tr>\n",
       "  </thead>\n",
       "  <tbody>\n",
       "    <tr>\n",
       "      <th>0</th>\n",
       "      <td>tae</td>\n",
       "      <td>LinearSVC</td>\n",
       "      <td>0.578947</td>\n",
       "      <td>0.01</td>\n",
       "      <td>hinge</td>\n",
       "      <td>l2</td>\n",
       "      <td>True</td>\n",
       "      <td>0.1</td>\n",
       "    </tr>\n",
       "    <tr>\n",
       "      <th>1</th>\n",
       "      <td>tae</td>\n",
       "      <td>LinearSVC</td>\n",
       "      <td>0.500000</td>\n",
       "      <td>0.01</td>\n",
       "      <td>hinge</td>\n",
       "      <td>l2</td>\n",
       "      <td>True</td>\n",
       "      <td>0.1</td>\n",
       "    </tr>\n",
       "    <tr>\n",
       "      <th>2</th>\n",
       "      <td>tae</td>\n",
       "      <td>LinearSVC</td>\n",
       "      <td>0.473684</td>\n",
       "      <td>0.01</td>\n",
       "      <td>hinge</td>\n",
       "      <td>l2</td>\n",
       "      <td>True</td>\n",
       "      <td>0.1</td>\n",
       "    </tr>\n",
       "    <tr>\n",
       "      <th>3</th>\n",
       "      <td>tae</td>\n",
       "      <td>LinearSVC</td>\n",
       "      <td>0.500000</td>\n",
       "      <td>0.01</td>\n",
       "      <td>hinge</td>\n",
       "      <td>l2</td>\n",
       "      <td>True</td>\n",
       "      <td>0.1</td>\n",
       "    </tr>\n",
       "    <tr>\n",
       "      <th>4</th>\n",
       "      <td>tae</td>\n",
       "      <td>LinearSVC</td>\n",
       "      <td>0.578947</td>\n",
       "      <td>0.01</td>\n",
       "      <td>hinge</td>\n",
       "      <td>l2</td>\n",
       "      <td>True</td>\n",
       "      <td>0.1</td>\n",
       "    </tr>\n",
       "  </tbody>\n",
       "</table>\n",
       "</div>"
      ],
      "text/plain": [
       "  Dataset_Name Method_Name  Test_Score     C   loss penalty  dual  tol\n",
       "0          tae   LinearSVC    0.578947  0.01  hinge      l2  True  0.1\n",
       "1          tae   LinearSVC    0.500000  0.01  hinge      l2  True  0.1\n",
       "2          tae   LinearSVC    0.473684  0.01  hinge      l2  True  0.1\n",
       "3          tae   LinearSVC    0.500000  0.01  hinge      l2  True  0.1\n",
       "4          tae   LinearSVC    0.578947  0.01  hinge      l2  True  0.1"
      ]
     },
     "execution_count": 22,
     "metadata": {},
     "output_type": "execute_result"
    }
   ],
   "source": [
    "# Split the Parameter Column to process it further and have only numeric values in it\n",
    "data_split1 = pd.DataFrame(result.Param1.str.split('=').tolist(),\n",
    "                                   columns = ['Param_Name','C'])\n",
    "data_split2 = pd.DataFrame(result.Param2.str.split('=').tolist(),\n",
    "                                   columns = ['Param_Name','loss'])\n",
    "data_split3 = pd.DataFrame(result.Param3.str.split('=').tolist(),\n",
    "                                   columns = ['Param_Name','penalty'])\n",
    "data_split4 = pd.DataFrame(result.Param4.str.split('=').tolist(),\n",
    "                                   columns = ['Param_Name','dual'])\n",
    "data_split5 = pd.DataFrame(result.Param5.str.split('=').tolist(),\n",
    "                                   columns = ['Param_Name','tol'])\n",
    "#data_split6 = pd.DataFrame(result.Param5.str.split('=').tolist(),\n",
    "#                                   columns = ['Param_Name','warm_start'])\n",
    "\n",
    "# Delete the Parameters column from the original dataframe\n",
    "method_data1 = result.drop('Param1',1)  \n",
    "method_data1 = method_data1.drop('Param2',1)\n",
    "method_data1 = method_data1.drop('Param3',1)\n",
    "method_data1 = method_data1.drop('Param4',1)\n",
    "method_data1 = method_data1.drop('Param5',1)\n",
    "#method_data1 = method_data1.drop('Param6',1)\n",
    "\n",
    "data_split1 = data_split1.drop('Param_Name',1)\n",
    "data_split2 = data_split2.drop('Param_Name',1)\n",
    "data_split3 = data_split3.drop('Param_Name',1)\n",
    "data_split4 = data_split4.drop('Param_Name',1)\n",
    "data_split5 = data_split5.drop('Param_Name',1)\n",
    "#data_split6 = data_split6.drop('Param_Name',1)\n",
    "\n",
    "idx = data_split1.index.get_values()               #get the index of the parameter dataframe  \n",
    "method_data2 = method_data1.set_index(idx)         #set the index of method dataframe same as parameter dataframe\n",
    "cleaned_data = pd.concat([method_data2, data_split1, data_split2, data_split3, data_split4, data_split5], axis = 1)\n",
    "#finally add the parameter columns to get the result (desired format)\n",
    "\n",
    "# You must cast the data as a float type -- it was parsed into a string type\n",
    "cleaned_data['C'] = cleaned_data['C'].astype(float)\n",
    "cleaned_data['tol'] = cleaned_data['tol'].astype(float)\n",
    "#cleaned_data['warm_start'] = cleaned_data['warm_start'].astype(float)\n",
    "#cleaned_data['criterion'] = cleaned_data['criterion'].astype(float)\n",
    "#cleaned_data['warm_start'] = cleaned_data['warm_start'].astype(float)\n",
    "\n",
    "cleaned_data.head()"
   ]
  },
  {
   "cell_type": "markdown",
   "metadata": {},
   "source": [
    "# Save this file of a method and parameters organized in columns"
   ]
  },
  {
   "cell_type": "code",
   "execution_count": 23,
   "metadata": {
    "collapsed": true
   },
   "outputs": [],
   "source": [
    "import os\n",
    "if not os.path.isdir('Cleaned_Method_Wise_Data_6thMay2016'):\n",
    "    os.mkdir('Cleaned_Method_Wise_Data_6thMay2016')\n",
    "cleaned_data.to_pickle('Cleaned_Method_Wise_Data_6thMay2016/LinearSVC_cleaned.tsv.gz')"
   ]
  },
  {
   "cell_type": "code",
   "execution_count": 24,
   "metadata": {
    "collapsed": false
   },
   "outputs": [
    {
     "data": {
      "text/html": [
       "<div>\n",
       "<table border=\"1\" class=\"dataframe\">\n",
       "  <thead>\n",
       "    <tr style=\"text-align: right;\">\n",
       "      <th></th>\n",
       "      <th>Dataset_Name</th>\n",
       "      <th>Method_Name</th>\n",
       "      <th>Test_Score</th>\n",
       "      <th>C</th>\n",
       "      <th>loss</th>\n",
       "      <th>penalty</th>\n",
       "      <th>dual</th>\n",
       "      <th>tol</th>\n",
       "    </tr>\n",
       "  </thead>\n",
       "  <tbody>\n",
       "    <tr>\n",
       "      <th>0</th>\n",
       "      <td>tae</td>\n",
       "      <td>LinearSVC</td>\n",
       "      <td>0.578947</td>\n",
       "      <td>0.01</td>\n",
       "      <td>hinge</td>\n",
       "      <td>l2</td>\n",
       "      <td>True</td>\n",
       "      <td>0.1</td>\n",
       "    </tr>\n",
       "    <tr>\n",
       "      <th>1</th>\n",
       "      <td>tae</td>\n",
       "      <td>LinearSVC</td>\n",
       "      <td>0.500000</td>\n",
       "      <td>0.01</td>\n",
       "      <td>hinge</td>\n",
       "      <td>l2</td>\n",
       "      <td>True</td>\n",
       "      <td>0.1</td>\n",
       "    </tr>\n",
       "    <tr>\n",
       "      <th>2</th>\n",
       "      <td>tae</td>\n",
       "      <td>LinearSVC</td>\n",
       "      <td>0.473684</td>\n",
       "      <td>0.01</td>\n",
       "      <td>hinge</td>\n",
       "      <td>l2</td>\n",
       "      <td>True</td>\n",
       "      <td>0.1</td>\n",
       "    </tr>\n",
       "    <tr>\n",
       "      <th>3</th>\n",
       "      <td>tae</td>\n",
       "      <td>LinearSVC</td>\n",
       "      <td>0.500000</td>\n",
       "      <td>0.01</td>\n",
       "      <td>hinge</td>\n",
       "      <td>l2</td>\n",
       "      <td>True</td>\n",
       "      <td>0.1</td>\n",
       "    </tr>\n",
       "    <tr>\n",
       "      <th>4</th>\n",
       "      <td>tae</td>\n",
       "      <td>LinearSVC</td>\n",
       "      <td>0.578947</td>\n",
       "      <td>0.01</td>\n",
       "      <td>hinge</td>\n",
       "      <td>l2</td>\n",
       "      <td>True</td>\n",
       "      <td>0.1</td>\n",
       "    </tr>\n",
       "  </tbody>\n",
       "</table>\n",
       "</div>"
      ],
      "text/plain": [
       "  Dataset_Name Method_Name  Test_Score     C   loss penalty  dual  tol\n",
       "0          tae   LinearSVC    0.578947  0.01  hinge      l2  True  0.1\n",
       "1          tae   LinearSVC    0.500000  0.01  hinge      l2  True  0.1\n",
       "2          tae   LinearSVC    0.473684  0.01  hinge      l2  True  0.1\n",
       "3          tae   LinearSVC    0.500000  0.01  hinge      l2  True  0.1\n",
       "4          tae   LinearSVC    0.578947  0.01  hinge      l2  True  0.1"
      ]
     },
     "execution_count": 24,
     "metadata": {},
     "output_type": "execute_result"
    }
   ],
   "source": [
    "# Read the file\n",
    "Cleaned_Data = pd.read_pickle('Cleaned_Method_Wise_Data_6thMay2016/LinearSVC_cleaned.tsv.gz')\n",
    "Cleaned_Data.head()"
   ]
  },
  {
   "cell_type": "code",
   "execution_count": null,
   "metadata": {
    "collapsed": true
   },
   "outputs": [],
   "source": []
  }
 ],
 "metadata": {
  "kernelspec": {
   "display_name": "Python 3",
   "language": "python",
   "name": "python3"
  },
  "language_info": {
   "codemirror_mode": {
    "name": "ipython",
    "version": 3
   },
   "file_extension": ".py",
   "mimetype": "text/x-python",
   "name": "python",
   "nbconvert_exporter": "python",
   "pygments_lexer": "ipython3",
   "version": "3.5.1"
  }
 },
 "nbformat": 4,
 "nbformat_minor": 0
}
